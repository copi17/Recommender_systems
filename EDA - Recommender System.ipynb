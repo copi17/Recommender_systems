{
 "cells": [
  {
   "cell_type": "code",
   "execution_count": 1,
   "metadata": {
    "ExecuteTime": {
     "end_time": "2020-06-25T03:12:32.125349Z",
     "start_time": "2020-06-25T03:12:30.943727Z"
    }
   },
   "outputs": [],
   "source": [
    "import pandas as pd\n",
    "import numpy as np\n",
    "import seaborn as sns\n",
    "import matplotlib.pyplot as plt"
   ]
  },
  {
   "cell_type": "code",
   "execution_count": 2,
   "metadata": {
    "ExecuteTime": {
     "end_time": "2020-06-25T03:12:32.631245Z",
     "start_time": "2020-06-25T03:12:32.126318Z"
    }
   },
   "outputs": [],
   "source": [
    "df = pd.read_csv(\"online_retail.csv\", encoding = \"ISO-8859-1\")"
   ]
  },
  {
   "cell_type": "code",
   "execution_count": 3,
   "metadata": {
    "ExecuteTime": {
     "end_time": "2020-06-25T03:12:32.651192Z",
     "start_time": "2020-06-25T03:12:32.632242Z"
    }
   },
   "outputs": [
    {
     "data": {
      "text/html": [
       "<div>\n",
       "<style scoped>\n",
       "    .dataframe tbody tr th:only-of-type {\n",
       "        vertical-align: middle;\n",
       "    }\n",
       "\n",
       "    .dataframe tbody tr th {\n",
       "        vertical-align: top;\n",
       "    }\n",
       "\n",
       "    .dataframe thead th {\n",
       "        text-align: right;\n",
       "    }\n",
       "</style>\n",
       "<table border=\"1\" class=\"dataframe\">\n",
       "  <thead>\n",
       "    <tr style=\"text-align: right;\">\n",
       "      <th></th>\n",
       "      <th>InvoiceNo</th>\n",
       "      <th>StockCode</th>\n",
       "      <th>Description</th>\n",
       "      <th>Quantity</th>\n",
       "      <th>InvoiceDate</th>\n",
       "      <th>UnitPrice</th>\n",
       "      <th>CustomerID</th>\n",
       "      <th>Country</th>\n",
       "    </tr>\n",
       "  </thead>\n",
       "  <tbody>\n",
       "    <tr>\n",
       "      <td>0</td>\n",
       "      <td>536365</td>\n",
       "      <td>85123A</td>\n",
       "      <td>WHITE HANGING HEART T-LIGHT HOLDER</td>\n",
       "      <td>6</td>\n",
       "      <td>12/1/2010 8:26</td>\n",
       "      <td>2.55</td>\n",
       "      <td>17850.0</td>\n",
       "      <td>United Kingdom</td>\n",
       "    </tr>\n",
       "    <tr>\n",
       "      <td>1</td>\n",
       "      <td>536365</td>\n",
       "      <td>71053</td>\n",
       "      <td>WHITE METAL LANTERN</td>\n",
       "      <td>6</td>\n",
       "      <td>12/1/2010 8:26</td>\n",
       "      <td>3.39</td>\n",
       "      <td>17850.0</td>\n",
       "      <td>United Kingdom</td>\n",
       "    </tr>\n",
       "    <tr>\n",
       "      <td>2</td>\n",
       "      <td>536365</td>\n",
       "      <td>84406B</td>\n",
       "      <td>CREAM CUPID HEARTS COAT HANGER</td>\n",
       "      <td>8</td>\n",
       "      <td>12/1/2010 8:26</td>\n",
       "      <td>2.75</td>\n",
       "      <td>17850.0</td>\n",
       "      <td>United Kingdom</td>\n",
       "    </tr>\n",
       "    <tr>\n",
       "      <td>3</td>\n",
       "      <td>536365</td>\n",
       "      <td>84029G</td>\n",
       "      <td>KNITTED UNION FLAG HOT WATER BOTTLE</td>\n",
       "      <td>6</td>\n",
       "      <td>12/1/2010 8:26</td>\n",
       "      <td>3.39</td>\n",
       "      <td>17850.0</td>\n",
       "      <td>United Kingdom</td>\n",
       "    </tr>\n",
       "    <tr>\n",
       "      <td>4</td>\n",
       "      <td>536365</td>\n",
       "      <td>84029E</td>\n",
       "      <td>RED WOOLLY HOTTIE WHITE HEART.</td>\n",
       "      <td>6</td>\n",
       "      <td>12/1/2010 8:26</td>\n",
       "      <td>3.39</td>\n",
       "      <td>17850.0</td>\n",
       "      <td>United Kingdom</td>\n",
       "    </tr>\n",
       "  </tbody>\n",
       "</table>\n",
       "</div>"
      ],
      "text/plain": [
       "  InvoiceNo StockCode                          Description  Quantity  \\\n",
       "0    536365    85123A   WHITE HANGING HEART T-LIGHT HOLDER         6   \n",
       "1    536365     71053                  WHITE METAL LANTERN         6   \n",
       "2    536365    84406B       CREAM CUPID HEARTS COAT HANGER         8   \n",
       "3    536365    84029G  KNITTED UNION FLAG HOT WATER BOTTLE         6   \n",
       "4    536365    84029E       RED WOOLLY HOTTIE WHITE HEART.         6   \n",
       "\n",
       "      InvoiceDate  UnitPrice  CustomerID         Country  \n",
       "0  12/1/2010 8:26       2.55     17850.0  United Kingdom  \n",
       "1  12/1/2010 8:26       3.39     17850.0  United Kingdom  \n",
       "2  12/1/2010 8:26       2.75     17850.0  United Kingdom  \n",
       "3  12/1/2010 8:26       3.39     17850.0  United Kingdom  \n",
       "4  12/1/2010 8:26       3.39     17850.0  United Kingdom  "
      ]
     },
     "execution_count": 3,
     "metadata": {},
     "output_type": "execute_result"
    }
   ],
   "source": [
    "df.head()"
   ]
  },
  {
   "cell_type": "code",
   "execution_count": 4,
   "metadata": {
    "ExecuteTime": {
     "end_time": "2020-06-25T03:12:32.726989Z",
     "start_time": "2020-06-25T03:12:32.652190Z"
    }
   },
   "outputs": [
    {
     "data": {
      "text/html": [
       "<div>\n",
       "<style scoped>\n",
       "    .dataframe tbody tr th:only-of-type {\n",
       "        vertical-align: middle;\n",
       "    }\n",
       "\n",
       "    .dataframe tbody tr th {\n",
       "        vertical-align: top;\n",
       "    }\n",
       "\n",
       "    .dataframe thead th {\n",
       "        text-align: right;\n",
       "    }\n",
       "</style>\n",
       "<table border=\"1\" class=\"dataframe\">\n",
       "  <thead>\n",
       "    <tr style=\"text-align: right;\">\n",
       "      <th></th>\n",
       "      <th>Quantity</th>\n",
       "      <th>UnitPrice</th>\n",
       "      <th>CustomerID</th>\n",
       "    </tr>\n",
       "  </thead>\n",
       "  <tbody>\n",
       "    <tr>\n",
       "      <td>count</td>\n",
       "      <td>541909.000000</td>\n",
       "      <td>541909.000000</td>\n",
       "      <td>406829.000000</td>\n",
       "    </tr>\n",
       "    <tr>\n",
       "      <td>mean</td>\n",
       "      <td>9.552250</td>\n",
       "      <td>4.611114</td>\n",
       "      <td>15287.690570</td>\n",
       "    </tr>\n",
       "    <tr>\n",
       "      <td>std</td>\n",
       "      <td>218.081158</td>\n",
       "      <td>96.759853</td>\n",
       "      <td>1713.600303</td>\n",
       "    </tr>\n",
       "    <tr>\n",
       "      <td>min</td>\n",
       "      <td>-80995.000000</td>\n",
       "      <td>-11062.060000</td>\n",
       "      <td>12346.000000</td>\n",
       "    </tr>\n",
       "    <tr>\n",
       "      <td>25%</td>\n",
       "      <td>1.000000</td>\n",
       "      <td>1.250000</td>\n",
       "      <td>13953.000000</td>\n",
       "    </tr>\n",
       "    <tr>\n",
       "      <td>50%</td>\n",
       "      <td>3.000000</td>\n",
       "      <td>2.080000</td>\n",
       "      <td>15152.000000</td>\n",
       "    </tr>\n",
       "    <tr>\n",
       "      <td>75%</td>\n",
       "      <td>10.000000</td>\n",
       "      <td>4.130000</td>\n",
       "      <td>16791.000000</td>\n",
       "    </tr>\n",
       "    <tr>\n",
       "      <td>max</td>\n",
       "      <td>80995.000000</td>\n",
       "      <td>38970.000000</td>\n",
       "      <td>18287.000000</td>\n",
       "    </tr>\n",
       "  </tbody>\n",
       "</table>\n",
       "</div>"
      ],
      "text/plain": [
       "            Quantity      UnitPrice     CustomerID\n",
       "count  541909.000000  541909.000000  406829.000000\n",
       "mean        9.552250       4.611114   15287.690570\n",
       "std       218.081158      96.759853    1713.600303\n",
       "min    -80995.000000  -11062.060000   12346.000000\n",
       "25%         1.000000       1.250000   13953.000000\n",
       "50%         3.000000       2.080000   15152.000000\n",
       "75%        10.000000       4.130000   16791.000000\n",
       "max     80995.000000   38970.000000   18287.000000"
      ]
     },
     "execution_count": 4,
     "metadata": {},
     "output_type": "execute_result"
    }
   ],
   "source": [
    "df.describe()"
   ]
  },
  {
   "cell_type": "code",
   "execution_count": 5,
   "metadata": {
    "ExecuteTime": {
     "end_time": "2020-06-25T03:12:32.756909Z",
     "start_time": "2020-06-25T03:12:32.727987Z"
    }
   },
   "outputs": [
    {
     "name": "stdout",
     "output_type": "stream",
     "text": [
      "Total Quantity < 0 adalah 10624 data atau sebesar 1.96%\n",
      "Total UnitPrice < 0 adalah 2 data atau sebesar 0.0004%\n"
     ]
    }
   ],
   "source": [
    "print('Total Quantity < 0 adalah {} data atau sebesar {}%'.format(len(df[df['Quantity']<0]), round(len(df[df['Quantity']<0]) / len(df) * 100, 2)))\n",
    "print('Total UnitPrice < 0 adalah {} data atau sebesar {}%'.format(len(df[df['UnitPrice']<0]), round(len(df[df['UnitPrice']<0]) / len(df) * 100, 4)))"
   ]
  },
  {
   "cell_type": "markdown",
   "metadata": {
    "ExecuteTime": {
     "end_time": "2020-06-19T04:18:07.929094Z",
     "start_time": "2020-06-19T04:18:07.588991Z"
    }
   },
   "source": [
    "Seperti pada Data Preprocessing, Quantity < 0 merupakan data Cancellation dan UnitPrice < 0 berasal dari NaN values CustomerID. Berdasarkan data diatas, persentase Quantity < 0 hanya sebesar 2% dan bisa dikatakan bahwa sekitar 73% Quantity dari pembelian setiap produk adalah antara 1 hingga 10 seperti grafik dibawah. Disisi lain, customer banyak melakukan pembelian pada produk yang memiliki harga 0.01£ hingga 4.13£."
   ]
  },
  {
   "cell_type": "markdown",
   "metadata": {},
   "source": [
    "Karena setiap customer melakukan total pembelian produk yang beragam, saya akan memasukkannya ke dalam beberapa kelompok agar mudah dibaca."
   ]
  },
  {
   "cell_type": "code",
   "execution_count": 6,
   "metadata": {
    "ExecuteTime": {
     "end_time": "2020-06-25T03:12:32.761897Z",
     "start_time": "2020-06-25T03:12:32.757907Z"
    }
   },
   "outputs": [],
   "source": [
    "def kategori(data):\n",
    "    if data < 0:\n",
    "        return '< 0 (Cancel)'\n",
    "    elif (data > 0) & (data < 11):\n",
    "        return '1 - 10'\n",
    "    elif (data > 10) & (data < 101):\n",
    "        return '11 - 100'\n",
    "    elif (data > 100) & (data < 1001):\n",
    "        return '101 - 1000'\n",
    "    else:\n",
    "        return '> 1000'"
   ]
  },
  {
   "cell_type": "code",
   "execution_count": 7,
   "metadata": {
    "ExecuteTime": {
     "end_time": "2020-06-25T03:12:32.893544Z",
     "start_time": "2020-06-25T03:12:32.762894Z"
    }
   },
   "outputs": [],
   "source": [
    "df['Kategori_jumlah_pembelian'] = df['Quantity'].apply(lambda x: kategori(x))"
   ]
  },
  {
   "cell_type": "code",
   "execution_count": 8,
   "metadata": {
    "ExecuteTime": {
     "end_time": "2020-06-25T03:12:33.189804Z",
     "start_time": "2020-06-25T03:12:32.894541Z"
    }
   },
   "outputs": [
    {
     "data": {
      "image/png": "[encoded data removed]",
      "text/plain": [
       "<Figure size 576x432 with 1 Axes>"
      ]
     },
     "metadata": {
      "needs_background": "light"
     },
     "output_type": "display_data"
    }
   ],
   "source": [
    "plt.figure(figsize = (8, 6))\n",
    "sns.countplot(x = df['Kategori_jumlah_pembelian'])\n",
    "plt.xlabel('Kategori_Quantity')\n",
    "plt.ylabel('Frequency')\n",
    "plt.title('Total Pembelian Per Kategori')\n",
    "plt.savefig('Quantity.png')"
   ]
  },
  {
   "cell_type": "code",
   "execution_count": 9,
   "metadata": {
    "ExecuteTime": {
     "end_time": "2020-06-25T03:12:33.194765Z",
     "start_time": "2020-06-25T03:12:33.190775Z"
    }
   },
   "outputs": [],
   "source": [
    "def kategori_harga(data):\n",
    "    if data < 0:\n",
    "        return '< 0'\n",
    "    elif (data > 0) & (data < 2.09):\n",
    "        return '0.1 - 2.08'\n",
    "    elif (data > 2.08) & (data < 4.14):\n",
    "        return '2.09 - 4.13'\n",
    "    else:\n",
    "        return '> 4.13'"
   ]
  },
  {
   "cell_type": "code",
   "execution_count": 10,
   "metadata": {
    "ExecuteTime": {
     "end_time": "2020-06-25T03:12:33.362317Z",
     "start_time": "2020-06-25T03:12:33.195763Z"
    }
   },
   "outputs": [],
   "source": [
    "df['Kategori_UnitPrice'] = df['UnitPrice'].apply(lambda x: kategori_harga(x))"
   ]
  },
  {
   "cell_type": "code",
   "execution_count": 11,
   "metadata": {
    "ExecuteTime": {
     "end_time": "2020-06-25T03:12:33.548844Z",
     "start_time": "2020-06-25T03:12:33.363316Z"
    }
   },
   "outputs": [
    {
     "data": {
      "text/plain": [
       "Text(0.5, 1.0, 'UnitPrice Per Kategori')"
      ]
     },
     "execution_count": 11,
     "metadata": {},
     "output_type": "execute_result"
    },
    {
     "data": {
      "image/png": "[encoded data removed]",
      "text/plain": [
       "<Figure size 576x432 with 1 Axes>"
      ]
     },
     "metadata": {
      "needs_background": "light"
     },
     "output_type": "display_data"
    }
   ],
   "source": [
    "plt.figure(figsize = (8, 6))\n",
    "sns.countplot(x = df['Kategori_UnitPrice'])\n",
    "plt.xlabel('Kategori_UnitPrice')\n",
    "plt.ylabel('Frequency')\n",
    "plt.title('UnitPrice Per Kategori')"
   ]
  },
  {
   "cell_type": "markdown",
   "metadata": {},
   "source": [
    "Kedua grafik diatas menunjukkan bahwa mayoritas pembeli melakukan transaksi pada produk yang memiliki rentang harga 0.1£ - 2.08£ dan membeli sebanyak 1 hingga 10 buah. Disisi lain, produk dengan rentang harga 2.09£ - 4.13£ dan lebih dari 4.13£ juga banyak dibeli."
   ]
  },
  {
   "cell_type": "markdown",
   "metadata": {},
   "source": [
    "**Berapakah produk yang telah dibeli?**"
   ]
  },
  {
   "cell_type": "code",
   "execution_count": 12,
   "metadata": {
    "ExecuteTime": {
     "end_time": "2020-06-25T03:12:39.838944Z",
     "start_time": "2020-06-25T03:12:33.549816Z"
    }
   },
   "outputs": [],
   "source": [
    "unique_id = []\n",
    "unique_product = []\n",
    "\n",
    "for i in df['CustomerID'].unique():\n",
    "    unique_id.append(i)\n",
    "    unique_product.append(len(df[df['CustomerID'] == i]['StockCode'].unique()))"
   ]
  },
  {
   "cell_type": "code",
   "execution_count": 13,
   "metadata": {
    "ExecuteTime": {
     "end_time": "2020-06-25T03:12:39.848892Z",
     "start_time": "2020-06-25T03:12:39.839914Z"
    }
   },
   "outputs": [],
   "source": [
    "count_product = pd.DataFrame()\n",
    "count_product['custID'] = unique_id\n",
    "count_product['total'] = unique_product"
   ]
  },
  {
   "cell_type": "code",
   "execution_count": 14,
   "metadata": {
    "ExecuteTime": {
     "end_time": "2020-06-25T03:12:40.176017Z",
     "start_time": "2020-06-25T03:12:39.850893Z"
    }
   },
   "outputs": [
    {
     "data": {
      "image/png": "[encoded data removed]",
      "text/plain": [
       "<Figure size 720x432 with 1 Axes>"
      ]
     },
     "metadata": {
      "needs_background": "light"
     },
     "output_type": "display_data"
    }
   ],
   "source": [
    "plt.figure(figsize = (10, 6))\n",
    "sns.barplot(y = count_product['total'].value_counts().head(25).values, x = count_product['total'].value_counts().head(25).index.astype('object'))\n",
    "plt.xlabel('Unique Product Count')\n",
    "plt.ylabel('Frequency of Customer')\n",
    "plt.title('Pembelian Unik Produk per Customer')\n",
    "plt.savefig('Product')"
   ]
  },
  {
   "cell_type": "markdown",
   "metadata": {},
   "source": [
    "Berdasarkan grafik diatas, sekitar 105 customer melakukan pembelian hanya 1 jenis produk. Tetapi, bisa dikatakan bahwa customer senang dan percaya berbelanja di Online Retail tersebut karena pembelian jenis produk lebih dari 1 sangat mendominasi. Namun, tidak bisa dikatakan bahwa customer menyukai setiap produk yang mereka beli. "
   ]
  },
  {
   "cell_type": "markdown",
   "metadata": {},
   "source": [
    "**Popularitas dari produk**<br>"
   ]
  },
  {
   "cell_type": "code",
   "execution_count": 15,
   "metadata": {
    "ExecuteTime": {
     "end_time": "2020-06-25T03:12:40.228901Z",
     "start_time": "2020-06-25T03:12:40.177013Z"
    }
   },
   "outputs": [
    {
     "data": {
      "text/plain": [
       "count    4070.000000\n",
       "mean      133.147174\n",
       "std       199.903331\n",
       "min         1.000000\n",
       "25%        14.000000\n",
       "50%        62.000000\n",
       "75%       167.000000\n",
       "max      2313.000000\n",
       "Name: StockCode, dtype: float64"
      ]
     },
     "execution_count": 15,
     "metadata": {},
     "output_type": "execute_result"
    }
   ],
   "source": [
    "df['StockCode'].value_counts().describe()"
   ]
  },
  {
   "cell_type": "code",
   "execution_count": 16,
   "metadata": {
    "ExecuteTime": {
     "end_time": "2020-06-25T03:12:40.303699Z",
     "start_time": "2020-06-25T03:12:40.229873Z"
    }
   },
   "outputs": [],
   "source": [
    "popularity = pd.DataFrame(df['StockCode'].value_counts())"
   ]
  },
  {
   "cell_type": "code",
   "execution_count": 17,
   "metadata": {
    "ExecuteTime": {
     "end_time": "2020-06-25T03:12:40.523089Z",
     "start_time": "2020-06-25T03:12:40.304672Z"
    }
   },
   "outputs": [
    {
     "data": {
      "image/png": "[encoded data removed]",
      "text/plain": [
       "<Figure size 720x432 with 1 Axes>"
      ]
     },
     "metadata": {
      "needs_background": "light"
     },
     "output_type": "display_data"
    }
   ],
   "source": [
    "plt.figure(figsize = (10, 6))\n",
    "sns.distplot(popularity['StockCode'], hist = False)\n",
    "plt.axvline(np.median(popularity['StockCode']), color = 'red')\n",
    "plt.title('Popularitas Distribusi')\n",
    "plt.savefig('StockCode')"
   ]
  },
  {
   "cell_type": "markdown",
   "metadata": {},
   "source": [
    "Grafik diatas merupakan distribusi dari Popularity atau seberapa banyak item tersebut telah dijual. Dari beberapa artikel yang saya baca, Long Tail Distribution dalam marketing dapat melihat produk yang permintaannya sedikit serta sulit untuk dicari. Selain itu, perusahaan dapat memaksimalkan produk tersebut untuk direkomendasikan guna meningkatkan profit dibandingkan mempopulerkan produk yang sudah populer."
   ]
  },
  {
   "cell_type": "code",
   "execution_count": 18,
   "metadata": {
    "ExecuteTime": {
     "end_time": "2020-06-25T03:13:01.583795Z",
     "start_time": "2020-06-25T03:13:01.525949Z"
    }
   },
   "outputs": [
    {
     "data": {
      "text/plain": [
       "85123A    2313\n",
       "22423     2203\n",
       "85099B    2159\n",
       "47566     1727\n",
       "20725     1639\n",
       "          ... \n",
       "20849        1\n",
       "84612B       1\n",
       "84247C       1\n",
       "16053        1\n",
       "90026A       1\n",
       "Name: StockCode, Length: 4070, dtype: int64"
      ]
     },
     "execution_count": 18,
     "metadata": {},
     "output_type": "execute_result"
    }
   ],
   "source": [
    "df['StockCode'].value_counts()[]"
   ]
  },
  {
   "cell_type": "code",
   "execution_count": 22,
   "metadata": {
    "ExecuteTime": {
     "end_time": "2020-06-25T03:14:32.272409Z",
     "start_time": "2020-06-25T03:14:32.238512Z"
    }
   },
   "outputs": [
    {
     "data": {
      "text/html": [
       "<div>\n",
       "<style scoped>\n",
       "    .dataframe tbody tr th:only-of-type {\n",
       "        vertical-align: middle;\n",
       "    }\n",
       "\n",
       "    .dataframe tbody tr th {\n",
       "        vertical-align: top;\n",
       "    }\n",
       "\n",
       "    .dataframe thead th {\n",
       "        text-align: right;\n",
       "    }\n",
       "</style>\n",
       "<table border=\"1\" class=\"dataframe\">\n",
       "  <thead>\n",
       "    <tr style=\"text-align: right;\">\n",
       "      <th></th>\n",
       "      <th>InvoiceNo</th>\n",
       "      <th>StockCode</th>\n",
       "      <th>Description</th>\n",
       "      <th>Quantity</th>\n",
       "      <th>InvoiceDate</th>\n",
       "      <th>UnitPrice</th>\n",
       "      <th>CustomerID</th>\n",
       "      <th>Country</th>\n",
       "      <th>Kategori_jumlah_pembelian</th>\n",
       "      <th>Kategori_UnitPrice</th>\n",
       "    </tr>\n",
       "  </thead>\n",
       "  <tbody>\n",
       "    <tr>\n",
       "      <td>224923</td>\n",
       "      <td>556579</td>\n",
       "      <td>90026A</td>\n",
       "      <td>GLASS BEAD HOOP NECKLACE BLACK</td>\n",
       "      <td>2</td>\n",
       "      <td>6/13/2011 14:16</td>\n",
       "      <td>8.5</td>\n",
       "      <td>15069.0</td>\n",
       "      <td>United Kingdom</td>\n",
       "      <td>1 - 10</td>\n",
       "      <td>&gt; 4.13</td>\n",
       "    </tr>\n",
       "  </tbody>\n",
       "</table>\n",
       "</div>"
      ],
      "text/plain": [
       "       InvoiceNo StockCode                     Description  Quantity  \\\n",
       "224923    556579    90026A  GLASS BEAD HOOP NECKLACE BLACK         2   \n",
       "\n",
       "            InvoiceDate  UnitPrice  CustomerID         Country  \\\n",
       "224923  6/13/2011 14:16        8.5     15069.0  United Kingdom   \n",
       "\n",
       "       Kategori_jumlah_pembelian Kategori_UnitPrice  \n",
       "224923                    1 - 10             > 4.13  "
      ]
     },
     "execution_count": 22,
     "metadata": {},
     "output_type": "execute_result"
    }
   ],
   "source": [
    "df[df['StockCode'] == '90026A']"
   ]
  },
  {
   "cell_type": "markdown",
   "metadata": {},
   "source": [
    "Terdapat beberapa StockCode yang NaN bukan sekedar langka namun memang kebutuhan customer tidak sesuai."
   ]
  }
 ],
 "metadata": {
  "kernelspec": {
   "display_name": "Python 3",
   "language": "python",
   "name": "python3"
  },
  "language_info": {
   "codemirror_mode": {
    "name": "ipython",
    "version": 3
   },
   "file_extension": ".py",
   "mimetype": "text/x-python",
   "name": "python",
   "nbconvert_exporter": "python",
   "pygments_lexer": "ipython3",
   "version": "3.7.4"
  }
 },
 "nbformat": 4,
 "nbformat_minor": 2
}
