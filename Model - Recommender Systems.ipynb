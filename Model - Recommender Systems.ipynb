{
 "cells": [
  {
   "cell_type": "markdown",
   "metadata": {
    "ExecuteTime": {
     "end_time": "2020-06-17T13:40:02.383106Z",
     "start_time": "2020-06-17T13:40:01.819036Z"
    }
   },
   "source": [
    "### Recommender Systems dengan menggunakan Collaborative Filtering\n",
    "\n",
    "Model yang akan saya gunakan adalah Collaborative Filtering dengan AlternatingLeastSquares packages. Dari jurnal penjelasan ALS, dikatakan bahwa ALS digunakan pada data yang bersifat implicit feedback serta bersifat memory-based. Implicit feedback secara tidak langsung adalah opini dari hasil observasi user behaviour, seperti purchase history, browsing history, etc. Referensi dari sebuah project di Kaggle, seseorang menggunakan data sejenis (purchase history) dengan saya dan mengartikan implicit untuk total pembelian produk dari setiap user. Artinya adalah user dikatakan menyukai atau tidak menyukai produk dapat dilihat dari total pembelian tersebut."
   ]
  },
  {
   "cell_type": "code",
   "execution_count": 1,
   "metadata": {
    "ExecuteTime": {
     "end_time": "2020-07-22T12:18:27.145899Z",
     "start_time": "2020-07-22T12:18:26.558451Z"
    }
   },
   "outputs": [],
   "source": [
    "import pandas as pd\n",
    "import numpy as np"
   ]
  },
  {
   "cell_type": "code",
   "execution_count": 2,
   "metadata": {
    "ExecuteTime": {
     "end_time": "2020-07-22T12:18:27.200752Z",
     "start_time": "2020-07-22T12:18:27.146896Z"
    }
   },
   "outputs": [],
   "source": [
    "df = pd.read_csv(\"clean.csv\")\n",
    "df = df.drop(columns = \"Unnamed: 0\")"
   ]
  },
  {
   "cell_type": "code",
   "execution_count": 3,
   "metadata": {
    "ExecuteTime": {
     "end_time": "2020-07-22T12:18:27.217707Z",
     "start_time": "2020-07-22T12:18:27.201750Z"
    }
   },
   "outputs": [
    {
     "data": {
      "text/html": [
       "<div>\n",
       "<style scoped>\n",
       "    .dataframe tbody tr th:only-of-type {\n",
       "        vertical-align: middle;\n",
       "    }\n",
       "\n",
       "    .dataframe tbody tr th {\n",
       "        vertical-align: top;\n",
       "    }\n",
       "\n",
       "    .dataframe thead th {\n",
       "        text-align: right;\n",
       "    }\n",
       "</style>\n",
       "<table border=\"1\" class=\"dataframe\">\n",
       "  <thead>\n",
       "    <tr style=\"text-align: right;\">\n",
       "      <th></th>\n",
       "      <th>Unnamed: 0.1</th>\n",
       "      <th>InvoiceNo</th>\n",
       "      <th>StockCode</th>\n",
       "      <th>Description</th>\n",
       "      <th>Quantity</th>\n",
       "      <th>InvoiceDate</th>\n",
       "      <th>UnitPrice</th>\n",
       "      <th>CustomerID</th>\n",
       "      <th>Country</th>\n",
       "      <th>Outliers</th>\n",
       "    </tr>\n",
       "  </thead>\n",
       "  <tbody>\n",
       "    <tr>\n",
       "      <td>0</td>\n",
       "      <td>0</td>\n",
       "      <td>536365</td>\n",
       "      <td>85123A</td>\n",
       "      <td>WHITE HANGING HEART T-LIGHT HOLDER</td>\n",
       "      <td>6</td>\n",
       "      <td>12/1/2010 8:26</td>\n",
       "      <td>2.55</td>\n",
       "      <td>17850.0</td>\n",
       "      <td>United Kingdom</td>\n",
       "      <td>0</td>\n",
       "    </tr>\n",
       "    <tr>\n",
       "      <td>1</td>\n",
       "      <td>1</td>\n",
       "      <td>536365</td>\n",
       "      <td>71053</td>\n",
       "      <td>WHITE METAL LANTERN</td>\n",
       "      <td>6</td>\n",
       "      <td>12/1/2010 8:26</td>\n",
       "      <td>3.39</td>\n",
       "      <td>17850.0</td>\n",
       "      <td>United Kingdom</td>\n",
       "      <td>0</td>\n",
       "    </tr>\n",
       "    <tr>\n",
       "      <td>2</td>\n",
       "      <td>2</td>\n",
       "      <td>536365</td>\n",
       "      <td>84406B</td>\n",
       "      <td>CREAM CUPID HEARTS COAT HANGER</td>\n",
       "      <td>8</td>\n",
       "      <td>12/1/2010 8:26</td>\n",
       "      <td>2.75</td>\n",
       "      <td>17850.0</td>\n",
       "      <td>United Kingdom</td>\n",
       "      <td>0</td>\n",
       "    </tr>\n",
       "    <tr>\n",
       "      <td>3</td>\n",
       "      <td>3</td>\n",
       "      <td>536365</td>\n",
       "      <td>84029G</td>\n",
       "      <td>KNITTED UNION FLAG HOT WATER BOTTLE</td>\n",
       "      <td>6</td>\n",
       "      <td>12/1/2010 8:26</td>\n",
       "      <td>3.39</td>\n",
       "      <td>17850.0</td>\n",
       "      <td>United Kingdom</td>\n",
       "      <td>0</td>\n",
       "    </tr>\n",
       "    <tr>\n",
       "      <td>4</td>\n",
       "      <td>4</td>\n",
       "      <td>536365</td>\n",
       "      <td>84029E</td>\n",
       "      <td>RED WOOLLY HOTTIE WHITE HEART.</td>\n",
       "      <td>6</td>\n",
       "      <td>12/1/2010 8:26</td>\n",
       "      <td>3.39</td>\n",
       "      <td>17850.0</td>\n",
       "      <td>United Kingdom</td>\n",
       "      <td>0</td>\n",
       "    </tr>\n",
       "  </tbody>\n",
       "</table>\n",
       "</div>"
      ],
      "text/plain": [
       "   Unnamed: 0.1 InvoiceNo StockCode                          Description  \\\n",
       "0             0    536365    85123A   WHITE HANGING HEART T-LIGHT HOLDER   \n",
       "1             1    536365     71053                  WHITE METAL LANTERN   \n",
       "2             2    536365    84406B       CREAM CUPID HEARTS COAT HANGER   \n",
       "3             3    536365    84029G  KNITTED UNION FLAG HOT WATER BOTTLE   \n",
       "4             4    536365    84029E       RED WOOLLY HOTTIE WHITE HEART.   \n",
       "\n",
       "   Quantity     InvoiceDate  UnitPrice  CustomerID         Country  Outliers  \n",
       "0         6  12/1/2010 8:26       2.55     17850.0  United Kingdom         0  \n",
       "1         6  12/1/2010 8:26       3.39     17850.0  United Kingdom         0  \n",
       "2         8  12/1/2010 8:26       2.75     17850.0  United Kingdom         0  \n",
       "3         6  12/1/2010 8:26       3.39     17850.0  United Kingdom         0  \n",
       "4         6  12/1/2010 8:26       3.39     17850.0  United Kingdom         0  "
      ]
     },
     "execution_count": 3,
     "metadata": {},
     "output_type": "execute_result"
    }
   ],
   "source": [
    "df.head()"
   ]
  },
  {
   "cell_type": "code",
   "execution_count": 4,
   "metadata": {
    "ExecuteTime": {
     "end_time": "2020-07-22T12:18:27.246630Z",
     "start_time": "2020-07-22T12:18:27.218705Z"
    },
    "scrolled": false
   },
   "outputs": [
    {
     "data": {
      "text/html": [
       "<div>\n",
       "<style scoped>\n",
       "    .dataframe tbody tr th:only-of-type {\n",
       "        vertical-align: middle;\n",
       "    }\n",
       "\n",
       "    .dataframe tbody tr th {\n",
       "        vertical-align: top;\n",
       "    }\n",
       "\n",
       "    .dataframe thead th {\n",
       "        text-align: right;\n",
       "    }\n",
       "</style>\n",
       "<table border=\"1\" class=\"dataframe\">\n",
       "  <thead>\n",
       "    <tr style=\"text-align: right;\">\n",
       "      <th></th>\n",
       "      <th>StockCode</th>\n",
       "      <th>CustomerID</th>\n",
       "      <th>Stock_count</th>\n",
       "    </tr>\n",
       "  </thead>\n",
       "  <tbody>\n",
       "    <tr>\n",
       "      <td>16419</td>\n",
       "      <td>22632</td>\n",
       "      <td>17850.0</td>\n",
       "      <td>17</td>\n",
       "    </tr>\n",
       "    <tr>\n",
       "      <td>27128</td>\n",
       "      <td>85123A</td>\n",
       "      <td>17850.0</td>\n",
       "      <td>17</td>\n",
       "    </tr>\n",
       "    <tr>\n",
       "      <td>24316</td>\n",
       "      <td>84029E</td>\n",
       "      <td>17850.0</td>\n",
       "      <td>17</td>\n",
       "    </tr>\n",
       "    <tr>\n",
       "      <td>16477</td>\n",
       "      <td>22633</td>\n",
       "      <td>17850.0</td>\n",
       "      <td>17</td>\n",
       "    </tr>\n",
       "    <tr>\n",
       "      <td>6353</td>\n",
       "      <td>21730</td>\n",
       "      <td>17850.0</td>\n",
       "      <td>17</td>\n",
       "    </tr>\n",
       "  </tbody>\n",
       "</table>\n",
       "</div>"
      ],
      "text/plain": [
       "      StockCode  CustomerID  Stock_count\n",
       "16419     22632     17850.0           17\n",
       "27128    85123A     17850.0           17\n",
       "24316    84029E     17850.0           17\n",
       "16477     22633     17850.0           17\n",
       "6353      21730     17850.0           17"
      ]
     },
     "execution_count": 4,
     "metadata": {},
     "output_type": "execute_result"
    }
   ],
   "source": [
    "new = df[['StockCode', 'CustomerID', 'Quantity']].groupby(by = ['StockCode', 'CustomerID']).count().reset_index()\n",
    "new = new.rename(columns = {'Quantity': 'Stock_count'})\n",
    "new.sort_values(by = 'Stock_count', ascending = False).head()"
   ]
  },
  {
   "cell_type": "code",
   "execution_count": 5,
   "metadata": {
    "ExecuteTime": {
     "end_time": "2020-07-22T12:18:27.581733Z",
     "start_time": "2020-07-22T12:18:27.247628Z"
    }
   },
   "outputs": [],
   "source": [
    "from sklearn.model_selection import train_test_split\n",
    "import implicit\n",
    "import scipy.sparse as sparse"
   ]
  },
  {
   "cell_type": "code",
   "execution_count": 6,
   "metadata": {
    "ExecuteTime": {
     "end_time": "2020-07-22T12:18:27.587721Z",
     "start_time": "2020-07-22T12:18:27.582731Z"
    }
   },
   "outputs": [],
   "source": [
    "new_stock_id = []\n",
    "id = 1\n",
    "\n",
    "for i in range(len(new['StockCode'].unique())):\n",
    "    new_stock_id.append(id)\n",
    "    id += 1"
   ]
  },
  {
   "cell_type": "code",
   "execution_count": 7,
   "metadata": {
    "ExecuteTime": {
     "end_time": "2020-07-22T12:18:27.598688Z",
     "start_time": "2020-07-22T12:18:27.589713Z"
    }
   },
   "outputs": [],
   "source": [
    "new_stock = pd.DataFrame()\n",
    "new_stock['StockCode'] = new['StockCode'].unique()\n",
    "new_stock['StockID'] = new_stock_id"
   ]
  },
  {
   "cell_type": "code",
   "execution_count": 8,
   "metadata": {
    "ExecuteTime": {
     "end_time": "2020-07-22T12:18:27.620629Z",
     "start_time": "2020-07-22T12:18:27.600684Z"
    }
   },
   "outputs": [
    {
     "data": {
      "text/html": [
       "<div>\n",
       "<style scoped>\n",
       "    .dataframe tbody tr th:only-of-type {\n",
       "        vertical-align: middle;\n",
       "    }\n",
       "\n",
       "    .dataframe tbody tr th {\n",
       "        vertical-align: top;\n",
       "    }\n",
       "\n",
       "    .dataframe thead th {\n",
       "        text-align: right;\n",
       "    }\n",
       "</style>\n",
       "<table border=\"1\" class=\"dataframe\">\n",
       "  <thead>\n",
       "    <tr style=\"text-align: right;\">\n",
       "      <th></th>\n",
       "      <th>StockCode</th>\n",
       "      <th>CustomerID</th>\n",
       "      <th>Stock_count</th>\n",
       "      <th>StockID</th>\n",
       "    </tr>\n",
       "  </thead>\n",
       "  <tbody>\n",
       "    <tr>\n",
       "      <td>0</td>\n",
       "      <td>10002</td>\n",
       "      <td>12583.0</td>\n",
       "      <td>1</td>\n",
       "      <td>1</td>\n",
       "    </tr>\n",
       "    <tr>\n",
       "      <td>1</td>\n",
       "      <td>10002</td>\n",
       "      <td>12682.0</td>\n",
       "      <td>2</td>\n",
       "      <td>1</td>\n",
       "    </tr>\n",
       "    <tr>\n",
       "      <td>2</td>\n",
       "      <td>10002</td>\n",
       "      <td>12731.0</td>\n",
       "      <td>1</td>\n",
       "      <td>1</td>\n",
       "    </tr>\n",
       "    <tr>\n",
       "      <td>3</td>\n",
       "      <td>10002</td>\n",
       "      <td>12867.0</td>\n",
       "      <td>1</td>\n",
       "      <td>1</td>\n",
       "    </tr>\n",
       "    <tr>\n",
       "      <td>4</td>\n",
       "      <td>10002</td>\n",
       "      <td>12872.0</td>\n",
       "      <td>1</td>\n",
       "      <td>1</td>\n",
       "    </tr>\n",
       "    <tr>\n",
       "      <td>...</td>\n",
       "      <td>...</td>\n",
       "      <td>...</td>\n",
       "      <td>...</td>\n",
       "      <td>...</td>\n",
       "    </tr>\n",
       "    <tr>\n",
       "      <td>27938</td>\n",
       "      <td>POST</td>\n",
       "      <td>14646.0</td>\n",
       "      <td>1</td>\n",
       "      <td>2501</td>\n",
       "    </tr>\n",
       "    <tr>\n",
       "      <td>27939</td>\n",
       "      <td>POST</td>\n",
       "      <td>15107.0</td>\n",
       "      <td>1</td>\n",
       "      <td>2501</td>\n",
       "    </tr>\n",
       "    <tr>\n",
       "      <td>27940</td>\n",
       "      <td>POST</td>\n",
       "      <td>15602.0</td>\n",
       "      <td>1</td>\n",
       "      <td>2501</td>\n",
       "    </tr>\n",
       "    <tr>\n",
       "      <td>27941</td>\n",
       "      <td>POST</td>\n",
       "      <td>15694.0</td>\n",
       "      <td>1</td>\n",
       "      <td>2501</td>\n",
       "    </tr>\n",
       "    <tr>\n",
       "      <td>27942</td>\n",
       "      <td>POST</td>\n",
       "      <td>16861.0</td>\n",
       "      <td>1</td>\n",
       "      <td>2501</td>\n",
       "    </tr>\n",
       "  </tbody>\n",
       "</table>\n",
       "<p>27943 rows × 4 columns</p>\n",
       "</div>"
      ],
      "text/plain": [
       "      StockCode  CustomerID  Stock_count  StockID\n",
       "0         10002     12583.0            1        1\n",
       "1         10002     12682.0            2        1\n",
       "2         10002     12731.0            1        1\n",
       "3         10002     12867.0            1        1\n",
       "4         10002     12872.0            1        1\n",
       "...         ...         ...          ...      ...\n",
       "27938      POST     14646.0            1     2501\n",
       "27939      POST     15107.0            1     2501\n",
       "27940      POST     15602.0            1     2501\n",
       "27941      POST     15694.0            1     2501\n",
       "27942      POST     16861.0            1     2501\n",
       "\n",
       "[27943 rows x 4 columns]"
      ]
     },
     "execution_count": 8,
     "metadata": {},
     "output_type": "execute_result"
    }
   ],
   "source": [
    "new_stockid = pd.merge(new, new_stock, how = 'left', on = 'StockCode')\n",
    "new_stockid"
   ]
  },
  {
   "cell_type": "markdown",
   "metadata": {},
   "source": [
    "### Train Test 80:20"
   ]
  },
  {
   "cell_type": "code",
   "execution_count": 9,
   "metadata": {
    "ExecuteTime": {
     "end_time": "2020-07-22T12:18:27.631601Z",
     "start_time": "2020-07-22T12:18:27.623622Z"
    }
   },
   "outputs": [],
   "source": [
    "train, test = train_test_split(new_stockid, test_size = 0.2, random_state = 1)"
   ]
  },
  {
   "cell_type": "code",
   "execution_count": 10,
   "metadata": {
    "ExecuteTime": {
     "end_time": "2020-07-22T12:18:27.643568Z",
     "start_time": "2020-07-22T12:18:27.638584Z"
    }
   },
   "outputs": [
    {
     "data": {
      "text/plain": [
       "(22354, 4)"
      ]
     },
     "execution_count": 10,
     "metadata": {},
     "output_type": "execute_result"
    }
   ],
   "source": [
    "train.shape"
   ]
  },
  {
   "cell_type": "code",
   "execution_count": 11,
   "metadata": {
    "ExecuteTime": {
     "end_time": "2020-07-22T12:18:27.653541Z",
     "start_time": "2020-07-22T12:18:27.644565Z"
    }
   },
   "outputs": [
    {
     "data": {
      "text/plain": [
       "(5589, 4)"
      ]
     },
     "execution_count": 11,
     "metadata": {},
     "output_type": "execute_result"
    }
   ],
   "source": [
    "test.shape"
   ]
  },
  {
   "cell_type": "code",
   "execution_count": 12,
   "metadata": {
    "ExecuteTime": {
     "end_time": "2020-07-22T12:18:27.663514Z",
     "start_time": "2020-07-22T12:18:27.656534Z"
    }
   },
   "outputs": [],
   "source": [
    "user_items = sparse.csr_matrix((train['Stock_count'].astype(float), (train['CustomerID'].astype(int), train['StockID'].astype(int))))"
   ]
  },
  {
   "cell_type": "code",
   "execution_count": 13,
   "metadata": {
    "ExecuteTime": {
     "end_time": "2020-07-22T12:18:27.670496Z",
     "start_time": "2020-07-22T12:18:27.664512Z"
    }
   },
   "outputs": [],
   "source": [
    "item_users = sparse.csr_matrix((train['Stock_count'].astype(float), (train['StockID'], train['CustomerID'].astype(int))))"
   ]
  },
  {
   "cell_type": "code",
   "execution_count": 14,
   "metadata": {
    "ExecuteTime": {
     "end_time": "2020-07-22T12:18:27.682397Z",
     "start_time": "2020-07-22T12:18:27.672492Z"
    },
    "scrolled": true
   },
   "outputs": [
    {
     "name": "stdout",
     "output_type": "stream",
     "text": [
      "  (1, 12682)\t2.0\n",
      "  (1, 12867)\t1.0\n",
      "  (1, 12872)\t1.0\n",
      "  (1, 13069)\t1.0\n",
      "  (1, 14258)\t1.0\n",
      "  (1, 14713)\t2.0\n",
      "  (1, 14911)\t1.0\n",
      "  (1, 15529)\t1.0\n",
      "  (1, 16098)\t1.0\n",
      "  (1, 16795)\t1.0\n",
      "  (1, 17677)\t1.0\n",
      "  (1, 17967)\t1.0\n",
      "  (2, 12748)\t1.0\n",
      "  (2, 15021)\t1.0\n",
      "  (2, 17198)\t1.0\n",
      "  (3, 17967)\t1.0\n",
      "  (4, 16710)\t1.0\n",
      "  (5, 16916)\t1.0\n",
      "  (6, 12735)\t1.0\n",
      "  (6, 13069)\t1.0\n",
      "  (6, 15750)\t1.0\n",
      "  (6, 16145)\t1.0\n",
      "  (6, 16722)\t1.0\n",
      "  (6, 16898)\t1.0\n",
      "  (6, 17511)\t1.0\n",
      "  :\t:\n",
      "  (2501, 12682)\t3.0\n",
      "  (2501, 12686)\t1.0\n",
      "  (2501, 12691)\t1.0\n",
      "  (2501, 12705)\t1.0\n",
      "  (2501, 12708)\t1.0\n",
      "  (2501, 12709)\t1.0\n",
      "  (2501, 12720)\t3.0\n",
      "  (2501, 12725)\t1.0\n",
      "  (2501, 12726)\t1.0\n",
      "  (2501, 12731)\t1.0\n",
      "  (2501, 12735)\t1.0\n",
      "  (2501, 12738)\t1.0\n",
      "  (2501, 12766)\t1.0\n",
      "  (2501, 12785)\t1.0\n",
      "  (2501, 12791)\t1.0\n",
      "  (2501, 12797)\t1.0\n",
      "  (2501, 12808)\t1.0\n",
      "  (2501, 12971)\t1.0\n",
      "  (2501, 13520)\t1.0\n",
      "  (2501, 13817)\t1.0\n",
      "  (2501, 14646)\t1.0\n",
      "  (2501, 15107)\t1.0\n",
      "  (2501, 15602)\t1.0\n",
      "  (2501, 15694)\t1.0\n",
      "  (2501, 16861)\t1.0\n"
     ]
    }
   ],
   "source": [
    "print(item_users)"
   ]
  },
  {
   "cell_type": "code",
   "execution_count": 15,
   "metadata": {
    "ExecuteTime": {
     "end_time": "2020-07-22T12:18:27.687384Z",
     "start_time": "2020-07-22T12:18:27.683395Z"
    }
   },
   "outputs": [],
   "source": [
    "import os\n",
    "os.environ['MKL_NUM_THREADS'] = '1' \n",
    "os.environ['OPENBLAS_NUM_THREADS'] = '1'"
   ]
  },
  {
   "cell_type": "markdown",
   "metadata": {},
   "source": [
    "Metode ALS mempelajari data berdasarkan matrix item-user dan menggunakan matrix user-item sebagai masukan sebagai preferensi apakah user akan menyukai atau tidak produk yang diberikan dan disertai dengan estimasi skor dari confidence level."
   ]
  },
  {
   "cell_type": "code",
   "execution_count": 16,
   "metadata": {
    "ExecuteTime": {
     "end_time": "2020-07-22T12:18:31.430379Z",
     "start_time": "2020-07-22T12:18:27.689378Z"
    }
   },
   "outputs": [
    {
     "data": {
      "application/vnd.jupyter.widget-view+json": {
       "model_id": "e788ed21a8c1487cbac0889a90fbbd8f",
       "version_major": 2,
       "version_minor": 0
      },
      "text/plain": [
       "HBox(children=(IntProgress(value=0, max=30), HTML(value='')))"
      ]
     },
     "metadata": {},
     "output_type": "display_data"
    },
    {
     "name": "stdout",
     "output_type": "stream",
     "text": [
      "\n"
     ]
    }
   ],
   "source": [
    "model = implicit.als.AlternatingLeastSquares(factors = 500, iterations = 30)\n",
    "model.fit(item_users)"
   ]
  },
  {
   "cell_type": "code",
   "execution_count": 17,
   "metadata": {
    "ExecuteTime": {
     "end_time": "2020-07-22T12:18:31.436363Z",
     "start_time": "2020-07-22T12:18:31.431376Z"
    }
   },
   "outputs": [],
   "source": [
    "custID = 14911\n",
    "rekomendasi = model.recommend(custID, user_items, N = 5, filter_already_liked_items = True)"
   ]
  },
  {
   "cell_type": "markdown",
   "metadata": {
    "ExecuteTime": {
     "end_time": "2020-06-25T03:55:37.925685Z",
     "start_time": "2020-06-25T03:55:37.922691Z"
    }
   },
   "source": [
    "#### Total Rekomendasi pada Dashboard sesuai User"
   ]
  },
  {
   "cell_type": "code",
   "execution_count": 18,
   "metadata": {
    "ExecuteTime": {
     "end_time": "2020-07-22T12:18:31.444364Z",
     "start_time": "2020-07-22T12:18:31.437360Z"
    }
   },
   "outputs": [
    {
     "data": {
      "text/plain": [
       "[(1310, 0.02404292),\n",
       " (2329, 0.022595033),\n",
       " (434, 0.022293271),\n",
       " (575, 0.021644741),\n",
       " (1080, 0.019152567)]"
      ]
     },
     "execution_count": 18,
     "metadata": {},
     "output_type": "execute_result"
    }
   ],
   "source": [
    "rekomendasi"
   ]
  },
  {
   "cell_type": "code",
   "execution_count": 19,
   "metadata": {
    "ExecuteTime": {
     "end_time": "2020-07-22T12:18:31.455361Z",
     "start_time": "2020-07-22T12:18:31.445362Z"
    }
   },
   "outputs": [
    {
     "data": {
      "text/html": [
       "<div>\n",
       "<style scoped>\n",
       "    .dataframe tbody tr th:only-of-type {\n",
       "        vertical-align: middle;\n",
       "    }\n",
       "\n",
       "    .dataframe tbody tr th {\n",
       "        vertical-align: top;\n",
       "    }\n",
       "\n",
       "    .dataframe thead th {\n",
       "        text-align: right;\n",
       "    }\n",
       "</style>\n",
       "<table border=\"1\" class=\"dataframe\">\n",
       "  <thead>\n",
       "    <tr style=\"text-align: right;\">\n",
       "      <th></th>\n",
       "      <th>CustomerID</th>\n",
       "      <th>Recommendation</th>\n",
       "    </tr>\n",
       "  </thead>\n",
       "  <tbody>\n",
       "  </tbody>\n",
       "</table>\n",
       "</div>"
      ],
      "text/plain": [
       "Empty DataFrame\n",
       "Columns: [CustomerID, Recommendation]\n",
       "Index: []"
      ]
     },
     "execution_count": 19,
     "metadata": {},
     "output_type": "execute_result"
    }
   ],
   "source": [
    "df_rec = pd.DataFrame(columns = ['CustomerID', 'Recommendation'])\n",
    "df_rec"
   ]
  },
  {
   "cell_type": "code",
   "execution_count": 20,
   "metadata": {
    "ExecuteTime": {
     "end_time": "2020-07-22T12:18:31.468349Z",
     "start_time": "2020-07-22T12:18:31.458352Z"
    }
   },
   "outputs": [
    {
     "data": {
      "text/html": [
       "<div>\n",
       "<style scoped>\n",
       "    .dataframe tbody tr th:only-of-type {\n",
       "        vertical-align: middle;\n",
       "    }\n",
       "\n",
       "    .dataframe tbody tr th {\n",
       "        vertical-align: top;\n",
       "    }\n",
       "\n",
       "    .dataframe thead th {\n",
       "        text-align: right;\n",
       "    }\n",
       "</style>\n",
       "<table border=\"1\" class=\"dataframe\">\n",
       "  <thead>\n",
       "    <tr style=\"text-align: right;\">\n",
       "      <th></th>\n",
       "      <th>CustomerID</th>\n",
       "      <th>Recommendation</th>\n",
       "    </tr>\n",
       "  </thead>\n",
       "  <tbody>\n",
       "    <tr>\n",
       "      <td>0</td>\n",
       "      <td>1310</td>\n",
       "      <td>0.024043</td>\n",
       "    </tr>\n",
       "    <tr>\n",
       "      <td>1</td>\n",
       "      <td>2329</td>\n",
       "      <td>0.022595</td>\n",
       "    </tr>\n",
       "    <tr>\n",
       "      <td>2</td>\n",
       "      <td>434</td>\n",
       "      <td>0.022293</td>\n",
       "    </tr>\n",
       "    <tr>\n",
       "      <td>3</td>\n",
       "      <td>575</td>\n",
       "      <td>0.021645</td>\n",
       "    </tr>\n",
       "    <tr>\n",
       "      <td>4</td>\n",
       "      <td>1080</td>\n",
       "      <td>0.019153</td>\n",
       "    </tr>\n",
       "  </tbody>\n",
       "</table>\n",
       "</div>"
      ],
      "text/plain": [
       "   CustomerID  Recommendation\n",
       "0        1310        0.024043\n",
       "1        2329        0.022595\n",
       "2         434        0.022293\n",
       "3         575        0.021645\n",
       "4        1080        0.019153"
      ]
     },
     "execution_count": 20,
     "metadata": {},
     "output_type": "execute_result"
    }
   ],
   "source": [
    "cust = []\n",
    "rec = []\n",
    "\n",
    "for i in range(len(rekomendasi)):\n",
    "    cust.append(rekomendasi[i][0])\n",
    "    rec.append(rekomendasi[i][1])\n",
    "    \n",
    "df_rec['CustomerID'], df_rec['Recommendation'] = cust, rec\n",
    "\n",
    "df_rec\n",
    "\n",
    "# print('Rekomendasi untuk ID {}:'.format(custID))\n",
    "# for i in range(len(rekomendasi)):\n",
    "#     print('{}. Stock ID {} dengan skor {}'.format(i+1, rekomendasi[i][0], rekomendasi[i][1]))"
   ]
  },
  {
   "cell_type": "markdown",
   "metadata": {},
   "source": [
    "### Evaluation Metric  \n",
    "\n",
    "**Mean Average Recall at K dan Mean Average Precision at K**\n",
    "\n",
    "Dari jurnal mengenai Implicit Feedback Datasets dikatakan bahwa metode evaluasi yang cocok diaplikasikan adalah Recall dibandingkan dengan Precision. Alasannya adalah karena tidak adanya variabel yang pantas untuk diukur, dalam kasus saya adalah total pembelian per produk. Semakin seseorang melakukan transaksi terhadap sebuah produk, maka diindakasi menyukai produk tersebut. Padahal dalam kenyataannya seseorang yang pernah membeli produk belum tentu menyukainya, bisa saja hanya untuk kado, barang titipan atau yang lainnya.<br>\n",
    "\n",
    "Dari beberapa referensi yang saya lihat, recall@k dapat dihitung dengan total dari banyaknya rekomendasi benar dibagi dengan total aktual. Sedangkan precision@k merupakan total rekomendasi benar dibagi dengan total rekomendasi yang diberikan."
   ]
  },
  {
   "cell_type": "code",
   "execution_count": 21,
   "metadata": {
    "ExecuteTime": {
     "end_time": "2020-07-22T12:18:31.654564Z",
     "start_time": "2020-07-22T12:18:31.469370Z"
    }
   },
   "outputs": [],
   "source": [
    "import ml_metrics\n",
    "import ast\n",
    "import recmetrics as rec"
   ]
  },
  {
   "cell_type": "code",
   "execution_count": 22,
   "metadata": {
    "ExecuteTime": {
     "end_time": "2020-07-22T12:18:32.450287Z",
     "start_time": "2020-07-22T12:18:31.655562Z"
    }
   },
   "outputs": [
    {
     "data": {
      "text/html": [
       "<div>\n",
       "<style scoped>\n",
       "    .dataframe tbody tr th:only-of-type {\n",
       "        vertical-align: middle;\n",
       "    }\n",
       "\n",
       "    .dataframe tbody tr th {\n",
       "        vertical-align: top;\n",
       "    }\n",
       "\n",
       "    .dataframe thead th {\n",
       "        text-align: right;\n",
       "    }\n",
       "</style>\n",
       "<table border=\"1\" class=\"dataframe\">\n",
       "  <thead>\n",
       "    <tr style=\"text-align: right;\">\n",
       "      <th></th>\n",
       "      <th>CustID</th>\n",
       "      <th>Predicted_train</th>\n",
       "    </tr>\n",
       "  </thead>\n",
       "  <tbody>\n",
       "    <tr>\n",
       "      <td>0</td>\n",
       "      <td>17284</td>\n",
       "      <td>[682, 499, 601, 1057, 65]</td>\n",
       "    </tr>\n",
       "    <tr>\n",
       "      <td>1</td>\n",
       "      <td>16385</td>\n",
       "      <td>[1637, 1634, 422, 532, 421]</td>\n",
       "    </tr>\n",
       "    <tr>\n",
       "      <td>2</td>\n",
       "      <td>12585</td>\n",
       "      <td>[658, 928, 1645, 779, 349]</td>\n",
       "    </tr>\n",
       "    <tr>\n",
       "      <td>3</td>\n",
       "      <td>14911</td>\n",
       "      <td>[1310, 2329, 434, 575, 1080]</td>\n",
       "    </tr>\n",
       "    <tr>\n",
       "      <td>4</td>\n",
       "      <td>14733</td>\n",
       "      <td>[1551, 402, 477, 1515, 2235]</td>\n",
       "    </tr>\n",
       "  </tbody>\n",
       "</table>\n",
       "</div>"
      ],
      "text/plain": [
       "   CustID               Predicted_train\n",
       "0   17284     [682, 499, 601, 1057, 65]\n",
       "1   16385   [1637, 1634, 422, 532, 421]\n",
       "2   12585    [658, 928, 1645, 779, 349]\n",
       "3   14911  [1310, 2329, 434, 575, 1080]\n",
       "4   14733  [1551, 402, 477, 1515, 2235]"
      ]
     },
     "execution_count": 22,
     "metadata": {},
     "output_type": "execute_result"
    }
   ],
   "source": [
    "id = []\n",
    "rec_list = []\n",
    "for i in list(train['CustomerID'].astype(int).unique()):\n",
    "    rekomendasi = model.recommend(i, user_items, N = 5, filter_already_liked_items = True)\n",
    "    \n",
    "    temp_list = []\n",
    "    for j in rekomendasi:\n",
    "        temp_list.append(j[0])\n",
    "        \n",
    "    id.append(i)\n",
    "    rec_list.append(temp_list)\n",
    "    \n",
    "predicted_train = pd.DataFrame()\n",
    "predicted_train['CustID'] = id\n",
    "predicted_train['Predicted_train'] = rec_list\n",
    "\n",
    "predicted_train['Predicted_train'] = predicted_train['Predicted_train'].apply(lambda x: (\"\"\"{}\"\"\".format(x))) \n",
    "predic_train = [ast.literal_eval(a) for a in list(predicted_train['Predicted_train'])]\n",
    "\n",
    "predicted_train.head()"
   ]
  },
  {
   "cell_type": "code",
   "execution_count": 23,
   "metadata": {
    "ExecuteTime": {
     "end_time": "2020-07-22T12:18:33.115527Z",
     "start_time": "2020-07-22T12:18:32.453279Z"
    }
   },
   "outputs": [
    {
     "data": {
      "text/html": [
       "<div>\n",
       "<style scoped>\n",
       "    .dataframe tbody tr th:only-of-type {\n",
       "        vertical-align: middle;\n",
       "    }\n",
       "\n",
       "    .dataframe tbody tr th {\n",
       "        vertical-align: top;\n",
       "    }\n",
       "\n",
       "    .dataframe thead th {\n",
       "        text-align: right;\n",
       "    }\n",
       "</style>\n",
       "<table border=\"1\" class=\"dataframe\">\n",
       "  <thead>\n",
       "    <tr style=\"text-align: right;\">\n",
       "      <th></th>\n",
       "      <th>CustomerID</th>\n",
       "      <th>Actual_train</th>\n",
       "    </tr>\n",
       "  </thead>\n",
       "  <tbody>\n",
       "    <tr>\n",
       "      <td>0</td>\n",
       "      <td>17284</td>\n",
       "      <td>[1452, 1291, 1033, 420, 2196, 426, 1056, 1210,...</td>\n",
       "    </tr>\n",
       "    <tr>\n",
       "      <td>1</td>\n",
       "      <td>16385</td>\n",
       "      <td>[341, 565, 1636, 1585, 1655, 879, 2197, 343, 1...</td>\n",
       "    </tr>\n",
       "    <tr>\n",
       "      <td>2</td>\n",
       "      <td>12585</td>\n",
       "      <td>[367, 1497, 1288, 1337, 807, 1502, 2168, 341, ...</td>\n",
       "    </tr>\n",
       "    <tr>\n",
       "      <td>3</td>\n",
       "      <td>14911</td>\n",
       "      <td>[1876, 393, 1354, 1943, 1325, 1067, 1302, 2498...</td>\n",
       "    </tr>\n",
       "    <tr>\n",
       "      <td>4</td>\n",
       "      <td>14733</td>\n",
       "      <td>[676, 1059, 181, 1375, 2291, 944, 1939, 974, 1...</td>\n",
       "    </tr>\n",
       "  </tbody>\n",
       "</table>\n",
       "</div>"
      ],
      "text/plain": [
       "   CustomerID                                       Actual_train\n",
       "0       17284  [1452, 1291, 1033, 420, 2196, 426, 1056, 1210,...\n",
       "1       16385  [341, 565, 1636, 1585, 1655, 879, 2197, 343, 1...\n",
       "2       12585  [367, 1497, 1288, 1337, 807, 1502, 2168, 341, ...\n",
       "3       14911  [1876, 393, 1354, 1943, 1325, 1067, 1302, 2498...\n",
       "4       14733  [676, 1059, 181, 1375, 2291, 944, 1939, 974, 1..."
      ]
     },
     "execution_count": 23,
     "metadata": {},
     "output_type": "execute_result"
    }
   ],
   "source": [
    "train_id = []\n",
    "train_stock = []\n",
    "\n",
    "for i in train['CustomerID'].unique():\n",
    "    train_id.append(i.astype(int))\n",
    "    train_stock.append(list(train[train['CustomerID'] == i]['StockID'].unique()))\n",
    "    \n",
    "actual_train = pd.DataFrame()\n",
    "actual_train['CustomerID'] = train_id\n",
    "actual_train['Actual_train'] = train_stock\n",
    "actual_train.head()"
   ]
  },
  {
   "cell_type": "code",
   "execution_count": 24,
   "metadata": {
    "ExecuteTime": {
     "end_time": "2020-07-22T12:18:33.164396Z",
     "start_time": "2020-07-22T12:18:33.116525Z"
    }
   },
   "outputs": [
    {
     "data": {
      "text/plain": [
       "[[682, 499, 601, 1057, 65],\n",
       " [1637, 1634, 422, 532, 421],\n",
       " [658, 928, 1645, 779, 349],\n",
       " [1310, 2329, 434, 575, 1080],\n",
       " [1551, 402, 477, 1515, 2235],\n",
       " [1753, 956, 1542, 1218, 1995],\n",
       " [2260, 57, 1248, 2121, 2236],\n",
       " [1398, 1247, 1333, 850, 851],\n",
       " [979, 1423, 934, 2031, 925],\n",
       " [340, 1308, 266, 941, 1216],\n",
       " [1272, 521, 698, 274, 1470],\n",
       " [130, 786, 791, 1116, 427],\n",
       " [2108, 599, 2058, 1594, 1686],\n",
       " [2251, 961, 1647, 1321, 1159],\n",
       " [2249, 1167, 2250, 736, 2367],\n",
       " [703, 883, 1550, 1988, 111],\n",
       " [1479, 791, 1124, 1986, 130],\n",
       " [181, 1542, 1644, 1387, 611],\n",
       " [181, 1523, 1105, 1300, 1431],\n",
       " [911, 1320, 1321, 1310, 1327],\n",
       " [129, 531, 837, 1223, 942],\n",
       " [1526, 1820, 1651, 1523, 705],\n",
       " [1485, 1321, 2170, 669, 1325],\n",
       " [1847, 1967, 1002, 1331, 1430],\n",
       " [886, 2289, 569, 1421, 1725],\n",
       " [2198, 382, 383, 2200, 2201],\n",
       " [2481, 351, 143, 2337, 759],\n",
       " [1877, 1242, 1307, 1106, 1300],\n",
       " [856, 1521, 140, 1497, 324],\n",
       " [1454, 1491, 1659, 960, 1935],\n",
       " [143, 35, 1837, 532, 251],\n",
       " [175, 521, 663, 1517, 1871],\n",
       " [600, 1242, 1351, 1768, 1904],\n",
       " [1242, 1665, 1533, 569, 2306],\n",
       " [954, 1913, 476, 1800, 426],\n",
       " [684, 1921, 1150, 744, 402],\n",
       " [269, 1336, 1352, 175, 663],\n",
       " [133, 1871, 1503, 786, 134],\n",
       " [1328, 462, 1091, 934, 259],\n",
       " [1725, 1343, 1705, 806, 318],\n",
       " [132, 25, 24, 369, 541],\n",
       " [2330, 1904, 1573, 1247, 748],\n",
       " [289, 205, 670, 1227, 2289],\n",
       " [306, 175, 2354, 344, 840],\n",
       " [545, 532, 2141, 1309, 357],\n",
       " [619, 1803, 485, 1462, 681],\n",
       " [275, 927, 2342, 568, 1697],\n",
       " [1839, 972, 824, 619, 741],\n",
       " [641, 1247, 640, 2393, 1351],\n",
       " [1532, 1197, 658, 1776, 1218],\n",
       " [1574, 1421, 2205, 1561, 1696],\n",
       " [1247, 1112, 1213, 2315, 1969],\n",
       " [950, 7, 1748, 237, 1110],\n",
       " [1065, 1415, 445, 1673, 1105],\n",
       " [269, 1837, 1308, 1376, 2351],\n",
       " [965, 9, 548, 418, 544],\n",
       " [1094, 646, 1725, 1650, 2158],\n",
       " [2197, 1636, 1637, 1795, 1401],\n",
       " [689, 1426, 572, 1106, 2087],\n",
       " [1893, 2047, 766, 1422, 1614],\n",
       " [793, 788, 1165, 1160, 1166],\n",
       " [285, 1687, 2249, 1568, 851],\n",
       " [1058, 564, 423, 1581, 1287],\n",
       " [445, 25, 1957, 1849, 601],\n",
       " [1491, 1189, 1951, 1566, 948],\n",
       " [1573, 1650, 1215, 1666, 2195],\n",
       " [2348, 175, 285, 1677, 1559],\n",
       " [1238, 1947, 130, 1099, 282],\n",
       " [1384, 2329, 1552, 1215, 2481],\n",
       " [2481, 1685, 351, 1522, 1521],\n",
       " [2183, 1154, 1840, 1904, 1951],\n",
       " [1831, 850, 1566, 2162, 851],\n",
       " [1834, 1658, 419, 1357, 1833],\n",
       " [1497, 1526, 953, 541, 1506],\n",
       " [1247, 223, 1913, 790, 1333],\n",
       " [1696, 1448, 1522, 1465, 1610],\n",
       " [749, 1248, 471, 753, 1478],\n",
       " [844, 831, 421, 422, 813],\n",
       " [129, 1136, 130, 1088, 1965],\n",
       " [1796, 1685, 1632, 824, 773],\n",
       " [371, 766, 1059, 1167, 1704],\n",
       " [1753, 580, 1831, 1511, 2386],\n",
       " [1893, 35, 1203, 1890, 2262],\n",
       " [1041, 937, 126, 1278, 1138],\n",
       " [2086, 1962, 1619, 1376, 1529],\n",
       " [544, 269, 1227, 1246, 2293],\n",
       " [1698, 389, 2207, 2085, 928],\n",
       " [2315, 445, 907, 1006, 1206],\n",
       " [2259, 261, 930, 1297, 1215],\n",
       " [1950, 175, 1073, 1470, 886],\n",
       " [1436, 1885, 851, 1087, 1011],\n",
       " [1222, 951, 2260, 861, 233],\n",
       " [1195, 1317, 1697, 1374, 583],\n",
       " [576, 1995, 1212, 2330, 575],\n",
       " [763, 1642, 1697, 2329, 1944],\n",
       " [1485, 2326, 1257, 1320, 1247],\n",
       " [1496, 1526, 1498, 200, 857],\n",
       " [426, 1366, 1063, 21, 2259],\n",
       " [110, 1333, 968, 2260, 667],\n",
       " [1550, 616, 1754, 663, 1949],\n",
       " [937, 340, 766, 2260, 899],\n",
       " [2249, 1091, 129, 1269, 1181],\n",
       " [1020, 641, 1387, 521, 2118],\n",
       " [1125, 736, 203, 1113, 900],\n",
       " [773, 1490, 719, 1272, 1706],\n",
       " [1498, 2198, 205, 663, 1835],\n",
       " [1427, 744, 1002, 1483, 1561],\n",
       " [1518, 342, 1567, 561, 2351],\n",
       " [612, 1697, 663, 1830, 1077],\n",
       " [856, 2386, 1444, 928, 85],\n",
       " [289, 1632, 230, 1134, 1111],\n",
       " [1662, 36, 869, 639, 519],\n",
       " [477, 544, 437, 2343, 1570],\n",
       " [1492, 445, 952, 1974, 354],\n",
       " [1989, 748, 663, 1850, 1582],\n",
       " [824, 535, 573, 578, 649],\n",
       " [638, 2348, 1121, 1230, 886],\n",
       " [1002, 1795, 1689, 1880, 1885],\n",
       " [1448, 728, 371, 807, 1424],\n",
       " [637, 1397, 1969, 1351, 1929],\n",
       " [1877, 1352, 1227, 1000, 737],\n",
       " [25, 1327, 986, 1849, 1066],\n",
       " [1648, 1191, 333, 226, 612],\n",
       " [485, 396, 1676, 2334, 802],\n",
       " [956, 911, 1050, 1125, 1989],\n",
       " [1916, 829, 1615, 1625, 1610],\n",
       " [817, 1969, 276, 1436, 1664],\n",
       " [1121, 1041, 2251, 361, 1023],\n",
       " [1491, 1632, 1011, 912, 1639],\n",
       " [1616, 1358, 1172, 867, 886],\n",
       " [1247, 395, 2464, 1465, 532],\n",
       " [2293, 1314, 1080, 286, 1149],\n",
       " [398, 1804, 1514, 965, 573],\n",
       " [778, 2023, 175, 285, 2337],\n",
       " [69, 1697, 1916, 2001, 1466],\n",
       " [1032, 2114, 2232, 1000, 35],\n",
       " [1472, 2137, 333, 685, 646],\n",
       " [1040, 1080, 1351, 111, 2137],\n",
       " [763, 1173, 1355, 741, 1948],\n",
       " [856, 600, 1, 371, 1527],\n",
       " [133, 2118, 1238, 2204, 2334],\n",
       " [2118, 1871, 229, 1159, 1102],\n",
       " [192, 1837, 494, 251, 636],\n",
       " [17, 117, 846, 2205, 1149],\n",
       " [202, 701, 1006, 1314, 1683],\n",
       " [619, 640, 641, 723, 757],\n",
       " [276, 1278, 632, 1822, 205],\n",
       " [402, 475, 799, 744, 1242],\n",
       " [1136, 130, 1132, 135, 787],\n",
       " [1754, 1263, 280, 130, 1795],\n",
       " [1611, 1559, 1527, 583, 348],\n",
       " [801, 413, 1625, 371, 627],\n",
       " [2455, 44, 381, 1203, 950],\n",
       " [1126, 1442, 143, 389, 1278],\n",
       " [1633, 1516, 195, 2498, 1321],\n",
       " [2329, 2113, 2111, 1641, 485],\n",
       " [1159, 131, 1833, 17, 2315],\n",
       " [385, 2189, 1696, 851, 86],\n",
       " [1, 857, 1847, 1509, 179],\n",
       " [965, 1493, 1511, 2263, 1854],\n",
       " [829, 2170, 270, 1803, 570],\n",
       " [953, 1486, 225, 1551, 542],\n",
       " [1682, 844, 1469, 1434, 1360],\n",
       " [903, 1689, 1475, 225, 1383],\n",
       " [289, 1421, 1182, 1189, 819],\n",
       " [396, 1145, 1303, 1664, 1564],\n",
       " [1540, 2354, 986, 960, 969],\n",
       " [1018, 1052, 192, 2101, 460],\n",
       " [615, 611, 306, 1498, 326],\n",
       " [1526, 2486, 2135, 1889, 2293],\n",
       " [1295, 1503, 1308, 580, 1278],\n",
       " [2236, 1, 1369, 111, 1847],\n",
       " [597, 1426, 221, 666, 1366],\n",
       " [2000, 1388, 289, 308, 1092],\n",
       " [86, 1243, 1573, 2487, 2488],\n",
       " [1904, 270, 1842, 1903, 1482],\n",
       " [490, 1893, 233, 2047, 2134],\n",
       " [1634, 1633, 1159, 744, 445],\n",
       " [1521, 1940, 205, 1857, 1691],\n",
       " [912, 1559, 507, 919, 1287],\n",
       " [1525, 1423, 318, 393, 1177],\n",
       " [677, 175, 580, 1573, 568],\n",
       " [1640, 225, 556, 412, 1205],\n",
       " [276, 1284, 378, 507, 1671],\n",
       " [2453, 1853, 2233, 1387, 697],\n",
       " [1768, 2194, 1177, 371, 1610],\n",
       " [867, 505, 1686, 1725, 1935],\n",
       " [1405, 1488, 917, 1403, 884],\n",
       " [2096, 1522, 1697, 1462, 1659],\n",
       " [66, 594, 641, 1182, 500],\n",
       " [423, 1622, 2239, 2238, 143],\n",
       " [773, 2011, 2251, 1132, 2321],\n",
       " [1725, 1213, 1997, 2244, 1685],\n",
       " [1919, 1505, 1374, 606, 856],\n",
       " [1289, 1427, 841, 637, 1181],\n",
       " [903, 226, 605, 865, 1006],\n",
       " [1077, 1242, 791, 401, 1698],\n",
       " [1307, 1238, 434, 1406, 614],\n",
       " [340, 1163, 763, 131, 1609],\n",
       " [582, 638, 444, 1725, 1072],\n",
       " [1117, 750, 2118, 524, 1238],\n",
       " [2158, 1132, 996, 1551, 1087],\n",
       " [531, 658, 829, 950, 541],\n",
       " [1981, 1834, 778, 1691, 615],\n",
       " [1854, 1493, 2263, 965, 1666],\n",
       " [1426, 1503, 2191, 941, 1199],\n",
       " [1851, 2321, 2481, 674, 2159],\n",
       " [1697, 685, 2360, 1644, 1120],\n",
       " [1465, 953, 623, 728, 2030],\n",
       " [2192, 2337, 2348, 202, 1995],\n",
       " [1066, 1456, 137, 755, 232],\n",
       " [1307, 1319, 1690, 1382, 1258],\n",
       " [1529, 1180, 2097, 1808, 1057],\n",
       " [1562, 1088, 1495, 1566, 137],\n",
       " [1229, 1293, 641, 2343, 1185],\n",
       " [186, 485, 2101, 1006, 942],\n",
       " [293, 2278, 114, 579, 2198],\n",
       " [2323, 1039, 2362, 742, 685],\n",
       " [1140, 849, 1236, 76, 1149],\n",
       " [1194, 1248, 1632, 582, 1491],\n",
       " [522, 855, 1080, 1639, 1390],\n",
       " [1504, 663, 175, 1613, 538],\n",
       " [1504, 1233, 991, 1725, 2368],\n",
       " [2329, 1696, 615, 667, 1871],\n",
       " [1649, 1652, 2253, 1737, 2218],\n",
       " [2386, 2260, 2201, 553, 1970],\n",
       " [1334, 1564, 965, 2259, 806],\n",
       " [1957, 1552, 2187, 1357, 1891],\n",
       " [26, 27, 1290, 1337, 636],\n",
       " [1630, 2198, 1625, 1080, 813],\n",
       " [2306, 1222, 1166, 2118, 1116],\n",
       " [469, 1642, 2329, 1776, 1090],\n",
       " [2293, 1504, 1273, 1895, 285],\n",
       " [813, 1387, 1623, 361, 1768],\n",
       " [1947, 1171, 1418, 402, 582],\n",
       " [382, 386, 2204, 1504, 876],\n",
       " [175, 1689, 1474, 1617, 1534],\n",
       " [1687, 2023, 1122, 1209, 784],\n",
       " [138, 1120, 383, 1951, 1702],\n",
       " [1462, 1696, 957, 1890, 1550],\n",
       " [1994, 207, 2184, 524, 909],\n",
       " [667, 2229, 1332, 641, 1065],\n",
       " [869, 1384, 1449, 1956, 867],\n",
       " [2260, 1895, 541, 1135, 1490],\n",
       " [129, 1697, 1524, 1390, 1423],\n",
       " [853, 272, 1039, 1247, 855],\n",
       " [1042, 699, 234, 357, 1621],\n",
       " [756, 608, 1300, 606, 1284],\n",
       " [306, 1619, 1000, 813, 1495],\n",
       " [1081, 1512, 1006, 1044, 56],\n",
       " [2337, 1138, 1205, 1962, 1688],\n",
       " [1648, 2189, 65, 659, 2328],\n",
       " [1120, 2367, 1837, 1505, 369],\n",
       " [920, 300, 1401, 1820, 299],\n",
       " [1820, 809, 389, 919, 791],\n",
       " [566, 1904, 1508, 1354, 940],\n",
       " [599, 1065, 234, 1649, 1294],\n",
       " [65, 682, 355, 1956, 1390],\n",
       " [197, 320, 114, 631, 525],\n",
       " [1645, 1974, 1060, 1829, 1011],\n",
       " [205, 2289, 1997, 2366, 525],\n",
       " [1325, 1311, 1306, 1336, 1083],\n",
       " [1100, 124, 2070, 2113, 2116],\n",
       " [1416, 937, 1418, 1464, 205],\n",
       " [1011, 1275, 1693, 1849, 2137],\n",
       " [1193, 637, 530, 1353, 1783],\n",
       " [638, 856, 737, 1834, 402],\n",
       " [1087, 1032, 1683, 1154, 1952],\n",
       " [577, 1871, 1225, 1820, 1921],\n",
       " [6, 1296, 1525, 508, 1133],\n",
       " [1551, 2270, 423, 1176, 711],\n",
       " [1648, 1472, 104, 1995, 1523],\n",
       " [1038, 1003, 650, 649, 1000],\n",
       " [421, 1244, 580, 422, 16],\n",
       " [2250, 874, 815, 872, 513],\n",
       " [869, 1540, 839, 1619, 324],\n",
       " [660, 656, 1169, 2023, 205],\n",
       " [986, 1207, 2170, 1223, 860],\n",
       " [1935, 2348, 769, 1662, 728],\n",
       " [854, 1756, 734, 1753, 1658],\n",
       " [685, 948, 1083, 397, 1664],\n",
       " [1501, 1147, 1909, 667, 1834],\n",
       " [499, 1172, 2086, 2091, 1361],\n",
       " [1583, 2002, 437, 1247, 1556],\n",
       " [205, 2289, 82, 226, 941],\n",
       " [1986, 1988, 750, 748, 1519],\n",
       " [1404, 740, 1405, 1440, 1242],\n",
       " [1000, 205, 1957, 1771, 2289],\n",
       " [1193, 1006, 920, 911, 1222],\n",
       " [469, 2294, 612, 570, 1689],\n",
       " [1504, 2331, 1278, 1058, 1515],\n",
       " [499, 1319, 1945, 207, 740],\n",
       " [380, 851, 1678, 637, 1106],\n",
       " [114, 76, 1691, 1995, 585],\n",
       " [854, 2498, 2484, 1524, 2486],\n",
       " [434, 1263, 1659, 2337, 1528],\n",
       " [1407, 1546, 1261, 1081, 1121],\n",
       " [2116, 1755, 583, 1840, 1512],\n",
       " [175, 955, 380, 1550, 1616],\n",
       " [627, 426, 1227, 1283, 521],\n",
       " [1020, 1539, 25, 1461, 1662],\n",
       " [746, 1077, 1891, 1899, 1046],\n",
       " [423, 1396, 1644, 14, 1697],\n",
       " [1842, 1123, 413, 1308, 2140],\n",
       " [251, 1622, 954, 1166, 666],\n",
       " [28, 617, 1553, 638, 609],\n",
       " [784, 1683, 312, 1677, 1311],\n",
       " [1077, 912, 858, 1217, 2233],\n",
       " [1693, 182, 769, 779, 667],\n",
       " [851, 361, 272, 289, 109],\n",
       " [1837, 1753, 2369, 2185, 1873],\n",
       " [1986, 1479, 1677, 1988, 1379],\n",
       " [736, 2233, 2179, 427, 233],\n",
       " [666, 1478, 2191, 943, 1326],\n",
       " [524, 1552, 1913, 1650, 2258],\n",
       " [613, 614, 884, 1492, 1010],\n",
       " [2315, 1278, 1247, 950, 2230],\n",
       " [998, 488, 486, 2074, 535],\n",
       " [1293, 911, 197, 1167, 522],\n",
       " [1032, 2386, 1218, 293, 133],\n",
       " [1083, 1006, 1904, 1326, 1317],\n",
       " [1074, 855, 656, 771, 1839],\n",
       " [1561, 135, 1167, 1891, 270],\n",
       " [1518, 227, 1970, 1909, 1491],\n",
       " [378, 701, 945, 1002, 1895],\n",
       " [2229, 1505, 1838, 1833, 744],\n",
       " [756, 1654, 1058, 773, 1630],\n",
       " [1203, 1205, 1199, 320, 424],\n",
       " [2093, 2137, 1000, 229, 1640],\n",
       " [1840, 1213, 1101, 308, 1356],\n",
       " [1340, 986, 974, 1584, 1659],\n",
       " [1317, 1804, 1167, 1994, 1507],\n",
       " [2124, 1298, 53, 773, 953],\n",
       " [1412, 1410, 485, 1678, 1632],\n",
       " [719, 1270, 530, 1386, 1619],\n",
       " [570, 2011, 1508, 764, 1248],\n",
       " [1390, 131, 526, 1131, 270],\n",
       " [699, 1839, 1436, 941, 1203],\n",
       " [111, 108, 1913, 386, 207],\n",
       " [916, 582, 2334, 649, 1564],\n",
       " [940, 602, 2250, 631, 1132],\n",
       " [583, 1122, 2205, 1654, 1362],\n",
       " [785, 784, 685, 671, 1039],\n",
       " [131, 1697, 222, 1504, 855],\n",
       " [1638, 1636, 1416, 756, 774],\n",
       " [751, 749, 1341, 750, 927],\n",
       " [1872, 560, 2257, 1189, 1138],\n",
       " [866, 512, 884, 1397, 663],\n",
       " [2189, 1159, 2260, 572, 658],\n",
       " [1691, 572, 1768, 1390, 1020],\n",
       " [2367, 1468, 1696, 1288, 1213],\n",
       " [658, 840, 1430, 2028, 571],\n",
       " [259, 790, 1842, 148, 789],\n",
       " [27, 1686, 80, 1972, 719],\n",
       " [1012, 135, 271, 1384, 1014],\n",
       " [1206, 499, 1847, 2259, 623],\n",
       " [477, 1644, 227, 1352, 1287],\n",
       " [434, 1172, 1324, 921, 251],\n",
       " [666, 1892, 2230, 1631, 2301],\n",
       " [1949, 1169, 522, 1683, 1416],\n",
       " [977, 1362, 1671, 1677, 579],\n",
       " [114, 1388, 1827, 272, 18],\n",
       " [1039, 901, 2322, 1308, 2364],\n",
       " [1421, 704, 1180, 1671, 2187],\n",
       " [1998, 2315, 907, 1809, 906],\n",
       " [764, 1543, 577, 1288, 1581],\n",
       " [2230, 1642, 857, 1488, 355],\n",
       " [261, 1147, 55, 1304, 1193],\n",
       " [646, 1532, 181, 2386, 1431],\n",
       " [1665, 910, 2079, 1169, 1511],\n",
       " [129, 1120, 785, 928, 1836],\n",
       " [793, 1804, 790, 1117, 131],\n",
       " [578, 1236, 1101, 1654, 917],\n",
       " [705, 494, 2368, 545, 2497],\n",
       " [1551, 1247, 627, 681, 1489],\n",
       " [2249, 343, 1560, 855, 10],\n",
       " [1361, 2192, 847, 1831, 508],\n",
       " [2337, 2067, 143, 1374, 1671],\n",
       " [1065, 1504, 2199, 2200, 2249],\n",
       " [1585, 1909, 2321, 1501, 1871],\n",
       " [1857, 1384, 1682, 957, 883],\n",
       " [1077, 1343, 97, 1847, 135],\n",
       " [1834, 300, 344, 960, 667],\n",
       " [1967, 905, 776, 1964, 2199],\n",
       " [1351, 1293, 582, 477, 1617],\n",
       " [270, 806, 148, 595, 1207],\n",
       " [1725, 681, 394, 1551, 1319],\n",
       " [1343, 625, 2118, 1331, 1475],\n",
       " [1594, 2140, 1669, 195, 1904],\n",
       " [223, 671, 1724, 1195, 2158],\n",
       " [1838, 1809, 529, 951, 1399],\n",
       " [25, 261, 1676, 722, 2043],\n",
       " [582, 858, 402, 1872, 911],\n",
       " [2321, 1340, 573, 112, 317],\n",
       " [1952, 1974, 817, 143, 188],\n",
       " [638, 1267, 1283, 1276, 504],\n",
       " [656, 2189, 423, 1, 1072],\n",
       " [1153, 1485, 1897, 1756, 756],\n",
       " [227, 335, 911, 1895, 1171],\n",
       " [85, 1194, 2158, 10, 2030],\n",
       " [627, 1267, 2335, 2333, 1284],\n",
       " [1526, 611, 1499, 616, 2124],\n",
       " [1880, 660, 1994, 1247, 993],\n",
       " [1528, 2187, 686, 1834, 1550],\n",
       " [572, 1431, 940, 952, 398],\n",
       " [21, 2260, 1958, 490, 2485],\n",
       " [1632, 1353, 927, 1643, 769],\n",
       " [1108, 1240, 1039, 1465, 1044],\n",
       " [1006, 1478, 104, 919, 840],\n",
       " [1287, 261, 1074, 508, 1300],\n",
       " [1491, 1490, 636, 1197, 1781],\n",
       " [703, 2259, 1207, 569, 317],\n",
       " [1962, 382, 1886, 1000, 1283],\n",
       " [18, 825, 1412, 1839, 1404],\n",
       " [1619, 485, 130, 1164, 1110],\n",
       " [752, 744, 1690, 1418, 458],\n",
       " [2140, 1916, 1842, 1903, 2369],\n",
       " [552, 969, 855, 1837, 1206],\n",
       " [1230, 231, 2249, 823, 1624],\n",
       " [590, 2062, 1071, 1804, 1523],\n",
       " [1042, 2023, 1474, 1153, 1658],\n",
       " [2162, 25, 582, 575, 1518],\n",
       " [1325, 1854, 960, 965, 869],\n",
       " [611, 1320, 1302, 226, 1041],\n",
       " [2199, 744, 56, 2286, 1334],\n",
       " [1676, 1447, 1012, 1551, 1516],\n",
       " [625, 571, 1829, 2187, 1199],\n",
       " [2124, 1524, 2329, 235, 1491],\n",
       " [269, 1559, 1336, 637, 333],\n",
       " [1971, 2360, 728, 1396, 1132],\n",
       " [1462, 1659, 1504, 1334, 1639],\n",
       " [667, 1455, 822, 1238, 423],\n",
       " [1957, 2067, 1009, 354, 1100],\n",
       " [1619, 2249, 437, 1074, 2028],\n",
       " [1569, 1688, 941, 1948, 1357],\n",
       " [1166, 137, 1648, 1678, 1644],\n",
       " [277, 2349, 86, 1652, 2097],\n",
       " [658, 1469, 1505, 811, 265],\n",
       " [1502, 1697, 1497, 2108, 1313],\n",
       " [1243, 1632, 1951, 1921, 2364],\n",
       " [10, 1839, 362, 1317, 1396],\n",
       " [307, 886, 1090, 1819, 1091],\n",
       " [1297, 1158, 784, 739, 1205],\n",
       " [1877, 1181, 1091, 445, 1851],\n",
       " [1633, 1637, 306, 28, 22],\n",
       " [2113, 1138, 911, 597, 1139],\n",
       " [76, 1710, 1491, 250, 2331],\n",
       " [1995, 689, 508, 780, 148],\n",
       " [1513, 610, 1416, 1323, 1309],\n",
       " [663, 1892, 637, 2301, 1390],\n",
       " [354, 2256, 2258, 1718, 2485],\n",
       " [1768, 1562, 1655, 2304, 2303],\n",
       " [952, 1470, 638, 1283, 1180],\n",
       " [1450, 1949, 1387, 979, 1397],\n",
       " [856, 1226, 2485, 1737, 1000],\n",
       " [1562, 1132, 1616, 1725, 1485],\n",
       " [1121, 283, 1837, 1838, 1834],\n",
       " [1629, 1501, 1659, 1436, 677],\n",
       " [1837, 1894, 1608, 2262, 1046],\n",
       " [1768, 650, 615, 856, 707],\n",
       " [1213, 1172, 1505, 1451, 1616],\n",
       " [1128, 471, 578, 1141, 1932],\n",
       " [748, 143, 1655, 1479, 1988],\n",
       " [226, 880, 853, 1261, 2015],\n",
       " [113, 1857, 1657, 1164, 1633],\n",
       " [1969, 385, 362, 510, 669],\n",
       " [1039, 1616, 791, 1424, 1321],\n",
       " [2118, 320, 2259, 344, 789],\n",
       " [1303, 844, 1474, 1063, 838],\n",
       " [2187, 561, 2043, 522, 600],\n",
       " [764, 650, 856, 1351, 1565],\n",
       " [2332, 2116, 572, 2058, 886],\n",
       " [293, 2249, 187, 2140, 741],\n",
       " [1464, 2321, 1044, 1496, 491],\n",
       " [1496, 225, 1495, 524, 876],\n",
       " [434, 974, 1081, 205, 1568],\n",
       " [704, 1050, 763, 16, 1297],\n",
       " [1162, 1524, 2187, 348, 1172],\n",
       " [385, 108, 819, 956, 1182],\n",
       " [969, 1921, 1835, 1504, 954],\n",
       " [1193, 419, 748, 237, 1999],\n",
       " [1795, 1311, 952, 1542, 1638],\n",
       " [614, 612, 1877, 615, 954],\n",
       " [1904, 1942, 2351, 2257, 1002],\n",
       " [945, 1098, 1328, 1006, 1330],\n",
       " [1106, 1213, 1222, 979, 976],\n",
       " [56, 627, 1195, 1063, 1008],\n",
       " [2330, 2058, 2108, 2067, 2068],\n",
       " [1058, 1999, 977, 1050, 564],\n",
       " [1523, 1528, 1650, 1629, 133],\n",
       " [131, 2198, 1156, 1358, 113],\n",
       " [1872, 1546, 1407, 1829, 1518],\n",
       " [134, 1616, 1614, 114, 2249],\n",
       " [282, 306, 1272, 1490, 1387],\n",
       " [2250, 637, 2254, 874, 1154],\n",
       " [1582, 306, 1502, 588, 802],\n",
       " [757, 1831, 2097, 9, 891],\n",
       " [384, 500, 229, 137, 130],\n",
       " [143, 8, 752, 1839, 991],\n",
       " [1317, 465, 1625, 497, 1440],\n",
       " [544, 1006, 2342, 2189, 1916],\n",
       " [1199, 402, 668, 1121, 2118],\n",
       " [705, 494, 2368, 545, 2497],\n",
       " [2289, 1270, 986, 57, 1909],\n",
       " [1135, 276, 1132, 1101, 141],\n",
       " [2233, 2337, 1418, 1614, 130],\n",
       " [523, 524, 1570, 974, 1672],\n",
       " [437, 1091, 441, 817, 276],\n",
       " [306, 485, 1282, 1110, 1558],\n",
       " [1248, 1243, 1437, 773, 1332],\n",
       " [1160, 952, 236, 1552, 445],\n",
       " [1247, 135, 554, 807, 638],\n",
       " [589, 857, 766, 2068, 1871],\n",
       " [434, 1079, 1139, 1865, 948],\n",
       " [83, 1683, 505, 1796, 1350],\n",
       " [2061, 1267, 1, 940, 740],\n",
       " [1414, 1243, 2498, 1412, 1405],\n",
       " [1957, 1401, 637, 578, 1248],\n",
       " [1484, 490, 1515, 1900, 685],\n",
       " [224, 1611, 1880, 2252, 318],\n",
       " [824, 1839, 1474, 1480, 1064],\n",
       " [293, 1704, 471, 752, 1028],\n",
       " [200, 964, 632, 2349, 1696],\n",
       " [785, 1388, 787, 2315, 1837],\n",
       " [112, 1437, 299, 581, 1972],\n",
       " [1689, 856, 1524, 1416, 1073],\n",
       " [1616, 758, 1939, 1849, 649],\n",
       " [301, 1566, 1194, 806, 2067],\n",
       " [1519, 533, 847, 1311, 560],\n",
       " [1150, 1222, 1215, 230, 1479],\n",
       " [705, 1455, 1697, 2367, 914],\n",
       " [1454, 1687, 993, 529, 606],\n",
       " [580, 1100, 1877, 478, 2258],\n",
       " [743, 2246, 741, 1308, 175],\n",
       " [1498, 1495, 205, 1117, 566],\n",
       " [2259, 1203, 1994, 1490, 965],\n",
       " [1077, 685, 1885, 1108, 684],\n",
       " [1658, 18, 1645, 1505, 677],\n",
       " [1299, 667, 1567, 638, 2324],\n",
       " [1442, 202, 1095, 1320, 1326],\n",
       " [876, 993, 1800, 136, 478],\n",
       " [857, 1768, 1171, 1995, 2332],\n",
       " [1320, 2028, 1303, 1475, 1258],\n",
       " [1497, 1498, 681, 521, 1099],\n",
       " [1512, 953, 1508, 1086, 205],\n",
       " [1894, 1942, 1889, 1891, 854],\n",
       " [534, 68, 825, 838, 837],\n",
       " [1485, 1333, 1950, 942, 666],\n",
       " [1485, 905, 516, 1885, 2023],\n",
       " [2201, 21, 1517, 1242, 1136],\n",
       " [2329, 2109, 1490, 1018, 1625],\n",
       " [1635, 1, 1649, 1650, 1651],\n",
       " [1303, 1501, 1849, 1302, 952],\n",
       " [2253, 143, 1619, 945, 2268],\n",
       " [224, 769, 1234, 2318, 2319],\n",
       " [785, 131, 786, 801, 1323],\n",
       " [1245, 325, 779, 1304, 2224],\n",
       " [2334, 1534, 2101, 1569, 1227],\n",
       " [832, 286, 508, 2207, 2301],\n",
       " [132, 438, 133, 1693, 542],\n",
       " [929, 2249, 187, 2205, 858],\n",
       " [423, 14, 1174, 719, 1173],\n",
       " [2230, 2328, 1431, 65, 1308],\n",
       " [1561, 1563, 1567, 1050, 1568],\n",
       " [283, 1414, 1151, 533, 1083],\n",
       " [616, 1230, 1177, 615, 1241],\n",
       " [425, 669, 1480, 812, 606],\n",
       " [1365, 1904, 358, 1276, 623],\n",
       " [188, 1952, 36, 519, 1198],\n",
       " [1645, 490, 1228, 1957, 1398],\n",
       " [1889, 182, 1513, 1242, 1909],\n",
       " [1675, 1401, 1000, 1540, 913],\n",
       " [379, 1838, 1374, 853, 1752],\n",
       " [1837, 1167, 1276, 1469, 1098],\n",
       " [1284, 1272, 1540, 774, 1167],\n",
       " [2278, 136, 1133, 141, 1130],\n",
       " [773, 386, 1236, 2100, 1951],\n",
       " [1682, 986, 913, 2349, 1198],\n",
       " [131, 2279, 1558, 1390, 1503],\n",
       " [765, 1337, 237, 1284, 545],\n",
       " [382, 179, 2249, 110, 385],\n",
       " [1725, 714, 1723, 1713, 2145],\n",
       " [2100, 2068, 1957, 2113, 1377],\n",
       " [547, 1815, 1504, 909, 728],\n",
       " [548, 22, 418, 28, 9],\n",
       " [1418, 937, 2170, 1506, 462],\n",
       " [886, 266, 1442, 1401, 396],\n",
       " [1568, 2354, 1302, 394, 1567],\n",
       " [1127, 886, 831, 1909, 2289],\n",
       " [1010, 903, 1371, 1370, 2270],\n",
       " [2316, 1916, 2317, 748, 282],\n",
       " [1301, 1497, 1614, 613, 756],\n",
       " [1230, 2204, 966, 1276, 2101],\n",
       " [1940, 1998, 1060, 1453, 954],\n",
       " [1091, 681, 817, 741, 2122],\n",
       " [382, 109, 207, 754, 1325],\n",
       " [1385, 849, 1494, 2311, 1511],\n",
       " [667, 1522, 568, 1366, 1831],\n",
       " [1718, 1101, 883, 2251, 302],\n",
       " [968, 1203, 389, 1082, 179],\n",
       " [1485, 947, 1384, 544, 806],\n",
       " [1474, 1101, 1302, 1384, 1454],\n",
       " [1756, 663, 1566, 874, 1309],\n",
       " [524, 1164, 1480, 1307, 1158],\n",
       " [638, 1944, 150, 773, 393],\n",
       " [611, 1644, 1305, 1336, 1518],\n",
       " [175, 1325, 743, 1504, 741],\n",
       " [677, 1166, 2185, 1397, 1499],\n",
       " [65, 682, 355, 354, 600],\n",
       " [853, 1364, 972, 1753, 1927],\n",
       " [1195, 56, 2158, 1008, 1376],\n",
       " [863, 1558, 1840, 701, 1594],\n",
       " [2337, 1081, 2113, 578, 1123],\n",
       " [143, 1630, 1582, 1320, 1263],\n",
       " [1550, 663, 521, 444, 1886],\n",
       " [2326, 1144, 1042, 2294, 2240],\n",
       " [766, 1450, 1999, 1336, 1939],\n",
       " [1480, 2293, 2470, 351, 2428],\n",
       " [1247, 953, 1473, 319, 928],\n",
       " [658, 132, 1518, 1332, 402],\n",
       " [1247, 1491, 785, 1490, 67],\n",
       " [597, 1639, 7, 1462, 1642],\n",
       " [1060, 342, 518, 2158, 705],\n",
       " [2030, 197, 1271, 196, 199],\n",
       " [2197, 1685, 1290, 1795, 1397],\n",
       " [973, 1169, 1172, 1184, 1756],\n",
       " [2342, 667, 2343, 1350, 270],\n",
       " [1245, 861, 1077, 1495, 1573],\n",
       " [649, 824, 650, 1548, 1097],\n",
       " [2228, 27, 76, 22, 26],\n",
       " [1640, 1639, 1120, 485, 445],\n",
       " [1872, 1238, 478, 544, 1286],\n",
       " [238, 724, 1638, 1132, 744],\n",
       " [1558, 426, 657, 606, 659],\n",
       " [383, 381, 385, 1469, 1436],\n",
       " [1810, 1122, 1616, 1205, 961],\n",
       " [2200, 1132, 786, 1390, 2201],\n",
       " [638, 809, 1680, 227, 1992],\n",
       " [667, 232, 2097, 549, 301],\n",
       " [2253, 228, 1851, 1059, 2247],\n",
       " [1215, 1427, 1683, 1233, 1112],\n",
       " [1891, 1032, 1893, 354, 1250],\n",
       " [1136, 2321, 2097, 784, 861],\n",
       " [1000, 1357, 741, 317, 2114],\n",
       " [609, 1689, 422, 1857, 421],\n",
       " [1436, 1768, 850, 851, 1523],\n",
       " [822, 160, 238, 1616, 785],\n",
       " [1090, 2368, 1688, 1088, 289],\n",
       " [1100, 1484, 143, 1737, 1339],\n",
       " [1537, 1122, 1443, 1696, 1687],\n",
       " [1324, 919, 251, 912, 1040],\n",
       " [1827, 1300, 579, 1828, 180],\n",
       " [499, 444, 396, 1385, 520],\n",
       " [2199, 1350, 441, 182, 1217],\n",
       " [1885, 1768, 430, 393, 237],\n",
       " [650, 903, 824, 1370, 2351],\n",
       " [1574, 1368, 2158, 233, 1189],\n",
       " [1137, 131, 1136, 1156, 784],\n",
       " [1333, 1389, 467, 469, 1450],\n",
       " [952, 1491, 953, 954, 2261],\n",
       " [1705, 104, 704, 1242, 1526],\n",
       " [485, 1639, 1011, 2114, 478],\n",
       " [1000, 752, 1822, 2173, 636],\n",
       " [1444, 954, 228, 952, 320],\n",
       " [1133, 139, 141, 1389, 367],\n",
       " [1810, 1682, 853, 522, 1188],\n",
       " [1090, 2096, 1741, 1733, 703],\n",
       " [751, 1378, 622, 748, 1483],\n",
       " [1194, 393, 236, 1006, 1921],\n",
       " [1522, 632, 685, 576, 573],\n",
       " [2326, 2322, 25, 775, 304],\n",
       " [961, 968, 1132, 1091, 1203],\n",
       " [883, 764, 900, 762, 854],\n",
       " [1243, 523, 1577, 1081, 1125],\n",
       " [507, 2337, 1994, 476, 1425],\n",
       " [188, 1384, 658, 862, 1945],\n",
       " [132, 1619, 1540, 1815, 1209],\n",
       " [237, 1515, 1558, 2293, 954],\n",
       " [276, 1278, 1686, 2113, 577],\n",
       " [234, 754, 1348, 333, 2119],\n",
       " [887, 353, 499, 737, 1853],\n",
       " [1354, 1455, 371, 251, 1897],\n",
       " [1195, 109, 2293, 1222, 1577],\n",
       " [1502, 1351, 283, 1837, 1343],\n",
       " [1313, 1890, 104, 1524, 2329],\n",
       " [1471, 1947, 1619, 1189, 1630],\n",
       " [1060, 1121, 402, 1100, 150],\n",
       " [324, 1310, 610, 1307, 1833],\n",
       " [1524, 951, 2358, 902, 744],\n",
       " [1180, 11, 2097, 1660, 7],\n",
       " [803, 1666, 659, 807, 1374],\n",
       " [1213, 773, 436, 1209, 1851],\n",
       " [656, 1164, 320, 2185, 396],\n",
       " [1284, 847, 1456, 1524, 813],\n",
       " [2137, 1485, 1610, 524, 1313],\n",
       " [1524, 574, 1737, 1688, 1001],\n",
       " [1241, 558, 958, 1160, 1770],\n",
       " [1008, 265, 1061, 149, 750],\n",
       " [1526, 1350, 801, 961, 612],\n",
       " [1756, 1822, 1469, 1392, 1958],\n",
       " [112, 1969, 1409, 1583, 384],\n",
       " [636, 135, 1542, 129, 1046],\n",
       " [1935, 1654, 639, 271, 952],\n",
       " [2237, 2259, 786, 1216, 1574],\n",
       " [1011, 1496, 1526, 1498, 28],\n",
       " [2279, 1111, 309, 1970, 2199],\n",
       " [1584, 270, 1556, 813, 2355],\n",
       " [1294, 776, 1278, 1230, 475],\n",
       " [1247, 1877, 1881, 941, 1491],\n",
       " [1044, 789, 53, 97, 139],\n",
       " [2453, 1387, 1853, 402, 1246],\n",
       " [1121, 2293, 876, 1496, 1416],\n",
       " [855, 104, 1326, 1422, 2332],\n",
       " [1653, 972, 728, 2205, 1885],\n",
       " [1205, 1820, 1002, 1050, 1518],\n",
       " [1353, 2195, 1453, 270, 230],\n",
       " [490, 1495, 1497, 1498, 728],\n",
       " [1463, 1505, 2097, 1238, 2453],\n",
       " [1326, 1312, 1332, 1306, 861],\n",
       " [1485, 1517, 1939, 318, 561],\n",
       " [917, 289, 1131, 380, 2160],\n",
       " [276, 437, 1462, 1687, 1375],\n",
       " [1904, 1776, 1360, 1473, 1997],\n",
       " [754, 1553, 1046, 1265, 130],\n",
       " [794, 1504, 1386, 789, 1216],\n",
       " [1499, 615, 614, 1605, 1602],\n",
       " [341, 432, 579, 1523, 778],\n",
       " [961, 556, 641, 492, 2369],\n",
       " [320, 510, 287, 979, 1316],\n",
       " [2158, 1020, 1384, 1195, 2481],\n",
       " [1166, 816, 430, 1376, 2367],\n",
       " [2205, 749, 788, 1079, 1158],\n",
       " [1375, 1199, 969, 2349, 1193],\n",
       " [1514, 424, 182, 293, 242],\n",
       " [340, 1997, 1776, 623, 1157],\n",
       " [2185, 652, 619, 444, 1375],\n",
       " [1947, 263, 1949, 766, 2187],\n",
       " [476, 1608, 2259, 754, 1172],\n",
       " [1488, 2147, 2146, 2203, 1900],\n",
       " [1436, 337, 850, 1467, 219],\n",
       " [911, 931, 948, 1655, 1311],\n",
       " [1530, 1362, 219, 1871, 1584],\n",
       " [1756, 1754, 1893, 844, 1196],\n",
       " [1032, 112, 853, 535, 573],\n",
       " [1954, 1935, 965, 1989, 649],\n",
       " [1491, 2108, 868, 2116, 996],\n",
       " [319, 777, 1469, 1032, 1058],\n",
       " [903, 977, 1298, 1358, 746],\n",
       " [840, 974, 794, 972, 1959],\n",
       " [973, 1952, 971, 1357, 767],\n",
       " [1058, 1519, 205, 1953, 1351],\n",
       " [1447, 420, 1446, 1356, 2204],\n",
       " [1517, 976, 402, 986, 110],\n",
       " [1213, 26, 27, 1125, 2328],\n",
       " [580, 777, 1686, 407, 1725],\n",
       " [2316, 126, 752, 2111, 25],\n",
       " [674, 1267, 2324, 1275, 2321],\n",
       " [1909, 1841, 1837, 544, 1246],\n",
       " [2367, 914, 1213, 1678, 705],\n",
       " [1651, 1000, 21, 2258, 436],\n",
       " [1485, 271, 423, 1282, 599],\n",
       " [814, 1973, 1287, 832, 548],\n",
       " [325, 434, 1951, 692, 545],\n",
       " [1895, 1494, 1365, 1561, 865],\n",
       " [1475, 1585, 1362, 1525, 1531],\n",
       " [1452, 1567, 1012, 606, 1678],\n",
       " [619, 948, 656, 1228, 2358],\n",
       " [1272, 1269, 1265, 1032, 1011],\n",
       " [1748, 2260, 1351, 889, 326],\n",
       " [1517, 1487, 1486, 2111, 1203],\n",
       " [1675, 616, 1100, 800, 402],\n",
       " [2115, 1248, 1430, 590, 2069],\n",
       " [1525, 2486, 579, 507, 504],\n",
       " [917, 792, 1390, 1662, 1126],\n",
       " [28, 927, 1567, 1667, 1631],\n",
       " [1421, 1885, 283, 342, 1704],\n",
       " [231, 1820, 1240, 299, 1914],\n",
       " [143, 8, 752, 1839, 991],\n",
       " [282, 2207, 2206, 2124, 1343],\n",
       " [1425, 2192, 1519, 802, 1390],\n",
       " [225, 1632, 1032, 1380, 1041],\n",
       " [2158, 1006, 56, 1654, 1008],\n",
       " [1491, 601, 2091, 236, 286],\n",
       " [1647, 1851, 1376, 943, 1649],\n",
       " [130, 2279, 1394, 526, 2337],\n",
       " [1995, 1890, 1378, 1531, 2295],\n",
       " [869, 542, 1284, 1872, 1682],\n",
       " [544, 1624, 1625, 872, 319],\n",
       " [133, 1250, 1140, 1141, 1616],\n",
       " [1376, 1754, 300, 1632, 774],\n",
       " [781, 114, 1095, 2179, 385],\n",
       " [581, 1245, 2261, 1551, 951],\n",
       " [205, 2289, 602, 1874, 1927],\n",
       " [1244, 822, 1880, 561, 1286],\n",
       " [824, 270, 2249, 6, 267],\n",
       " [663, 445, 1639, 1504, 2137],\n",
       " [1286, 445, 1297, 133, 723],\n",
       " [2109, 1397, 1282, 1328, 1524],\n",
       " [1645, 1697, 2137, 671, 1643],\n",
       " [432, 1981, 1945, 1011, 534],\n",
       " [568, 1914, 1112, 1349, 868],\n",
       " [2090, 1189, 2244, 2092, 1709],\n",
       " [342, 974, 1422, 2253, 1177],\n",
       " [1101, 601, 1230, 2229, 8],\n",
       " [445, 1835, 2204, 579, 1418],\n",
       " [785, 788, 792, 789, 786],\n",
       " [676, 318, 1470, 778, 879],\n",
       " [85, 2348, 1215, 1285, 2288],\n",
       " [840, 659, 2030, 1654, 10],\n",
       " [438, 1696, 1935, 735, 1974],\n",
       " [1217, 991, 1672, 1671, 2386],\n",
       " [1092, 579, 1105, 1134, 739],\n",
       " [1073, 1362, 685, 2137, 1584],\n",
       " [808, 367, 1162, 1667, 2192],\n",
       " [776, 2335, 1230, 1011, 505],\n",
       " [1947, 1970, 145, 984, 615],\n",
       " [1241, 977, 1770, 132, 1172],\n",
       " [1423, 1212, 1980, 2170, 2168],\n",
       " [1159, 325, 663, 1508, 1502],\n",
       " [2204, 1243, 16, 2236, 753],\n",
       " [1357, 784, 1009, 1392, 1517],\n",
       " [1577, 1978, 1979, 934, 1650],\n",
       " [1884, 643, 641, 361, 285],\n",
       " [2135, 1756, 1559, 1842, 147],\n",
       " [1066, 143, 1356, 1551, 1502],\n",
       " [1247, 1352, 310, 114, 561],\n",
       " [1686, 1539, 1617, 1696, 2097],\n",
       " [876, 1734, 1710, 355, 692],\n",
       " [1138, 663, 1705, 597, 1723],\n",
       " [728, 869, 325, 1815, 2204],\n",
       " [968, 1877, 1565, 1650, 1001],\n",
       " [1090, 889, 545, 1044, 1388],\n",
       " [685, 684, 948, 544, 110],\n",
       " [233, 232, 856, 650, 234],\n",
       " [477, 1865, 1864, 1863, 1167],\n",
       " [1942, 1203, 1442, 1314, 1524],\n",
       " [1100, 50, 1023, 1428, 124],\n",
       " [1061, 1077, 2195, 538, 224],\n",
       " [636, 1073, 342, 1724, 724],\n",
       " [1558, 1364, 1768, 1822, 960],\n",
       " [544, 1916, 609, 275, 1506],\n",
       " [1244, 1503, 663, 175, 1182],\n",
       " [1449, 1455, 1451, 1166, 560],\n",
       " [485, 548, 1946, 1938, 1945],\n",
       " [434, 1180, 1294, 344, 1783],\n",
       " [1610, 1543, 1524, 1552, 855],\n",
       " [1819, 1890, 2189, 754, 779],\n",
       " [261, 149, 1384, 727, 1125],\n",
       " [953, 1568, 2179, 1561, 320],\n",
       " [1247, 393, 1491, 538, 234],\n",
       " [572, 1781, 476, 1466, 157],\n",
       " [1286, 776, 1834, 1873, 530],\n",
       " [728, 2262, 146, 536, 1810],\n",
       " [1418, 1416, 1252, 1000, 1256],\n",
       " [1232, 1207, 1503, 1619, 553],\n",
       " [130, 383, 1770, 977, 1270],\n",
       " [858, 917, 916, 1519, 1578],\n",
       " [701, 1325, 1488, 863, 306],\n",
       " [1893, 1890, 1909, 848, 2040],\n",
       " [1651, 1652, 1300, 1851, 1129],\n",
       " [1891, 1965, 739, 2230, 1009],\n",
       " [1539, 638, 879, 1300, 841],\n",
       " [986, 437, 2140, 441, 147],\n",
       " [219, 251, 1897, 953, 1312],\n",
       " [1632, 465, 432, 876, 1628],\n",
       " [2307, 1972, 1621, 1092, 1684],\n",
       " [1569, 1753, 807, 1108, 663],\n",
       " [150, 148, 1225, 526, 328],\n",
       " [303, 1425, 299, 2115, 2341],\n",
       " [663, 1504, 175, 743, 445],\n",
       " [2286, 608, 875, 693, 1914],\n",
       " [840, 1166, 636, 2168, 2192],\n",
       " [762, 1227, 1487, 1383, 917],\n",
       " [181, 1484, 2201, 342, 789],\n",
       " [1423, 1909, 1800, 1384, 1511],\n",
       " [1214, 1428, 2068, 1929, 2232],\n",
       " [1780, 1430, 1150, 580, 412],\n",
       " [8, 143, 2179, 1662, 1563],\n",
       " [2498, 2286, 1248, 585, 285],\n",
       " [325, 114, 688, 326, 1150],\n",
       " [1171, 1174, 1246, 147, 719],\n",
       " [1831, 1836, 402, 1458, 611],\n",
       " [2118, 2365, 219, 1514, 2248],\n",
       " [840, 1909, 232, 1352, 505],\n",
       " [1450, 1451, 1454, 1458, 1621],\n",
       " [1834, 974, 571, 1671, 1137],\n",
       " [1558, 318, 1953, 886, 1507],\n",
       " [2321, 393, 1885, 207, 318],\n",
       " [1294, 1795, 1689, 2197, 568],\n",
       " [968, 83, 538, 894, 1353],\n",
       " [1222, 205, 656, 866, 2015],\n",
       " [1650, 1809, 2109, 1737, 968],\n",
       " [1561, 1562, 53, 2119, 370],\n",
       " [1948, 1172, 570, 1232, 2187],\n",
       " [2167, 1981, 2348, 891, 508],\n",
       " [943, 1097, 462, 1334, 1332],\n",
       " [879, 886, 851, 1455, 141],\n",
       " [1171, 437, 1838, 1880, 1485],\n",
       " [2189, 777, 2186, 1032, 1231],\n",
       " [334, 239, 768, 766, 2023],\n",
       " [580, 800, 854, 1149, 1716],\n",
       " [67, 591, 91, 2484, 2022],\n",
       " [301, 1753, 1530, 2337, 303],\n",
       " [912, 942, 1075, 1416, 1312],\n",
       " [968, 1564, 2170, 2349, 579],\n",
       " [1830, 2147, 407, 2203, 2146],\n",
       " [1209, 1243, 802, 973, 285],\n",
       " [1091, 113, 276, 817, 829],\n",
       " [230, 1351, 1136, 525, 1863],\n",
       " [182, 424, 1876, 1610, 913],\n",
       " [757, 1044, 1525, 1913, 1242],\n",
       " [1086, 11, 1337, 998, 389],\n",
       " [1075, 18, 2316, 2341, 1848],\n",
       " [1191, 2062, 285, 1553, 181],\n",
       " [1042, 785, 139, 568, 1041],\n",
       " [9, 1244, 1973, 1893, 1889],\n",
       " [1129, 1272, 237, 127, 2110],\n",
       " [693, 773, 638, 1282, 344],\n",
       " [2170, 250, 1513, 660, 1199],\n",
       " [1317, 507, 369, 1543, 1820],\n",
       " [1392, 789, 97, 1804, 1090],\n",
       " [688, 1512, 684, 1117, 2167],\n",
       " [2114, 1808, 1231, 250, 1981],\n",
       " [1340, 1503, 757, 1397, 1559],\n",
       " [1841, 216, 2187, 1435, 1401],\n",
       " [27, 548, 28, 2335, 1804],\n",
       " [2170, 250, 1513, 660, 1199],\n",
       " [1449, 1074, 1073, 684, 2140],\n",
       " [1644, 219, 28, 769, 485],\n",
       " [676, 1951, 1326, 396, 1006],\n",
       " [2486, 1752, 667, 2135, 1282],\n",
       " [568, 1265, 940, 492, 1636],\n",
       " [777, 779, 367, 807, 2194],\n",
       " [1659, 1697, 348, 974, 1501],\n",
       " [1325, 948, 1504, 205, 667],\n",
       " [1406, 1408, 1410, 1407, 401],\n",
       " [1501, 1502, 1521, 1659, 606],\n",
       " [789, 1357, 1000, 133, 1616],\n",
       " [1423, 1394, 1392, 1245, 1079],\n",
       " [2110, 445, 1248, 1644, 2354],\n",
       " [864, 993, 1679, 163, 1668],\n",
       " [879, 1627, 233, 851, 1244],\n",
       " [1999, 2259, 1610, 2205, 1828],\n",
       " [1276, 1281, 831, 1279, 529],\n",
       " [676, 1211, 402, 342, 1312],\n",
       " [2137, 1893, 1488, 1574, 1009],\n",
       " [1490, 1768, 1485, 2135, 2486],\n",
       " [860, 378, 1640, 1542, 1810],\n",
       " [1308, 1800, 1307, 494, 2287],\n",
       " [1273, 757, 758, 684, 1500],\n",
       " [1189, 521, 499, 227, 1137],\n",
       " [1240, 394, 1524, 1383, 991],\n",
       " [960, 491, 808, 1242, 234],\n",
       " [1353, 1181, 1546, 1407, 259],\n",
       " [547, 545, 1829, 1755, 1610],\n",
       " [907, 813, 1832, 1077, 1909],\n",
       " [1362, 1363, 1821, 1848, 1470],\n",
       " [1685, 927, 1361, 1145, 1472],\n",
       " [1969, 920, 903, 2268, 2308],\n",
       " [537, 306, 420, 116, 1011],\n",
       " [554, 1625, 1358, 1189, 1090],\n",
       " [1111, 135, 1117, 886, 1388],\n",
       " [205, 2332, 311, 670, 1000],\n",
       " [1086, 554, 1998, 369, 1610],\n",
       " [1561, 1485, 234, 1074, 636],\n",
       " [1584, 2118, 1008, 1325, 967],\n",
       " [1302, 2354, 1957, 1570, 1885],\n",
       " [1344, 2192, 567, 1387, 1180],\n",
       " [973, 974, 1171, 1914, 1243],\n",
       " [1075, 18, 2316, 2341, 1848],\n",
       " [2360, 1938, 204, 118, 791],\n",
       " [806, 1466, 1131, 638, 1623],\n",
       " [744, 1889, 1564, 1242, 831],\n",
       " [1476, 309, 1299, 1229, 1162],\n",
       " [1525, 2486, 579, 507, 504],\n",
       " [1895, 139, 624, 1891, 507],\n",
       " [1893, 1850, 868, 1167, 83],\n",
       " [534, 829, 523, 847, 529],\n",
       " [1282, 547, 223, 1478, 1349],\n",
       " [1394, 1392, 856, 1799, 1195],\n",
       " [1064, 2246, 175, 1308, 812],\n",
       " [1895, 868, 524, 1850, 1531],\n",
       " [143, 8, 752, 1839, 991],\n",
       " [1455, 1453, 1451, 1454, 971],\n",
       " [129, 1132, 219, 1312, 1137],\n",
       " [1319, 1383, 1552, 234, 2251],\n",
       " [916, 917, 650, 649, 147],\n",
       " [2259, 1941, 1854, 1486, 677],\n",
       " [304, 1776, 203, 1881, 299],\n",
       " [879, 1541, 1615, 1837, 1666],\n",
       " [1478, 1193, 1477, 816, 1366],\n",
       " [1425, 1519, 2041, 1508, 1351],\n",
       " [1426, 919, 306, 1383, 967],\n",
       " [1559, 583, 326, 1278, 1172],\n",
       " [1083, 1658, 1528, 1669, 1213],\n",
       " [860, 378, 1522, 859, 1074],\n",
       " [1676, 630, 572, 993, 1877],\n",
       " [17, 112, 1107, 1449, 1132],\n",
       " [1133, 1110, 136, 114, 140],\n",
       " [857, 1752, 1077, 1753, 853],\n",
       " ...]"
      ]
     },
     "execution_count": 24,
     "metadata": {},
     "output_type": "execute_result"
    }
   ],
   "source": [
    "predic_train"
   ]
  },
  {
   "cell_type": "code",
   "execution_count": 25,
   "metadata": {
    "ExecuteTime": {
     "end_time": "2020-07-22T12:18:33.633151Z",
     "start_time": "2020-07-22T12:18:33.165394Z"
    }
   },
   "outputs": [
    {
     "data": {
      "text/html": [
       "<div>\n",
       "<style scoped>\n",
       "    .dataframe tbody tr th:only-of-type {\n",
       "        vertical-align: middle;\n",
       "    }\n",
       "\n",
       "    .dataframe tbody tr th {\n",
       "        vertical-align: top;\n",
       "    }\n",
       "\n",
       "    .dataframe thead th {\n",
       "        text-align: right;\n",
       "    }\n",
       "</style>\n",
       "<table border=\"1\" class=\"dataframe\">\n",
       "  <thead>\n",
       "    <tr style=\"text-align: right;\">\n",
       "      <th></th>\n",
       "      <th>CustID</th>\n",
       "      <th>Predicted_test</th>\n",
       "    </tr>\n",
       "  </thead>\n",
       "  <tbody>\n",
       "    <tr>\n",
       "      <td>0</td>\n",
       "      <td>18283</td>\n",
       "      <td>[784, 1683, 312, 1677, 1311]</td>\n",
       "    </tr>\n",
       "    <tr>\n",
       "      <td>1</td>\n",
       "      <td>14298</td>\n",
       "      <td>[2330, 1904, 1573, 1247, 748]</td>\n",
       "    </tr>\n",
       "    <tr>\n",
       "      <td>2</td>\n",
       "      <td>14527</td>\n",
       "      <td>[1414, 1243, 2498, 1412, 1405]</td>\n",
       "    </tr>\n",
       "    <tr>\n",
       "      <td>3</td>\n",
       "      <td>16931</td>\n",
       "      <td>[627, 426, 1227, 1283, 521]</td>\n",
       "    </tr>\n",
       "    <tr>\n",
       "      <td>4</td>\n",
       "      <td>17211</td>\n",
       "      <td>[76, 1710, 1491, 250, 2331]</td>\n",
       "    </tr>\n",
       "  </tbody>\n",
       "</table>\n",
       "</div>"
      ],
      "text/plain": [
       "   CustID                  Predicted_test\n",
       "0   18283    [784, 1683, 312, 1677, 1311]\n",
       "1   14298   [2330, 1904, 1573, 1247, 748]\n",
       "2   14527  [1414, 1243, 2498, 1412, 1405]\n",
       "3   16931     [627, 426, 1227, 1283, 521]\n",
       "4   17211     [76, 1710, 1491, 250, 2331]"
      ]
     },
     "execution_count": 25,
     "metadata": {},
     "output_type": "execute_result"
    }
   ],
   "source": [
    "id = []\n",
    "rec_list = []\n",
    "for i in list(test['CustomerID'].astype(int).unique()):\n",
    "    rekomendasi = model.recommend(i, user_items, N = 5, filter_already_liked_items = True)\n",
    "    \n",
    "    temp_list = []\n",
    "    for j in rekomendasi:\n",
    "        temp_list.append(j[0])\n",
    "        \n",
    "    id.append(i)\n",
    "    rec_list.append(temp_list)\n",
    "    \n",
    "predicted_test = pd.DataFrame()\n",
    "predicted_test['CustID'] = id\n",
    "predicted_test['Predicted_test'] = rec_list\n",
    "\n",
    "predicted_test['Predicted_test'] = predicted_test['Predicted_test'].apply(lambda x: (\"\"\"{}\"\"\".format(x))) \n",
    "predic_test = [ast.literal_eval(a) for a in list(predicted_test['Predicted_test'])]\n",
    "\n",
    "predicted_test.head()"
   ]
  },
  {
   "cell_type": "code",
   "execution_count": 26,
   "metadata": {
    "ExecuteTime": {
     "end_time": "2020-07-22T12:18:34.200845Z",
     "start_time": "2020-07-22T12:18:33.634147Z"
    }
   },
   "outputs": [
    {
     "data": {
      "text/html": [
       "<div>\n",
       "<style scoped>\n",
       "    .dataframe tbody tr th:only-of-type {\n",
       "        vertical-align: middle;\n",
       "    }\n",
       "\n",
       "    .dataframe tbody tr th {\n",
       "        vertical-align: top;\n",
       "    }\n",
       "\n",
       "    .dataframe thead th {\n",
       "        text-align: right;\n",
       "    }\n",
       "</style>\n",
       "<table border=\"1\" class=\"dataframe\">\n",
       "  <thead>\n",
       "    <tr style=\"text-align: right;\">\n",
       "      <th></th>\n",
       "      <th>CustomerID</th>\n",
       "      <th>Actual_test</th>\n",
       "    </tr>\n",
       "  </thead>\n",
       "  <tbody>\n",
       "    <tr>\n",
       "      <td>0</td>\n",
       "      <td>18283</td>\n",
       "      <td>[741, 1446, 1137, 1574, 787, 1136, 2279, 1122,...</td>\n",
       "    </tr>\n",
       "    <tr>\n",
       "      <td>1</td>\n",
       "      <td>14298</td>\n",
       "      <td>[1675, 2363, 589, 301, 1428, 2069, 1128, 1602,...</td>\n",
       "    </tr>\n",
       "    <tr>\n",
       "      <td>2</td>\n",
       "      <td>14527</td>\n",
       "      <td>[1404, 1338, 1109, 1555, 1415, 2180, 787, 1557...</td>\n",
       "    </tr>\n",
       "    <tr>\n",
       "      <td>3</td>\n",
       "      <td>16931</td>\n",
       "      <td>[1074, 1298, 1460, 1324, 644, 1472, 1309, 141,...</td>\n",
       "    </tr>\n",
       "    <tr>\n",
       "      <td>4</td>\n",
       "      <td>17211</td>\n",
       "      <td>[1832, 1556, 1522, 1471, 1627, 1462, 1181, 145...</td>\n",
       "    </tr>\n",
       "  </tbody>\n",
       "</table>\n",
       "</div>"
      ],
      "text/plain": [
       "   CustomerID                                        Actual_test\n",
       "0       18283  [741, 1446, 1137, 1574, 787, 1136, 2279, 1122,...\n",
       "1       14298  [1675, 2363, 589, 301, 1428, 2069, 1128, 1602,...\n",
       "2       14527  [1404, 1338, 1109, 1555, 1415, 2180, 787, 1557...\n",
       "3       16931  [1074, 1298, 1460, 1324, 644, 1472, 1309, 141,...\n",
       "4       17211  [1832, 1556, 1522, 1471, 1627, 1462, 1181, 145..."
      ]
     },
     "execution_count": 26,
     "metadata": {},
     "output_type": "execute_result"
    }
   ],
   "source": [
    "test_id = []\n",
    "test_stock = []\n",
    "\n",
    "for i in test['CustomerID'].unique():\n",
    "    test_id.append(i.astype(int))\n",
    "    test_stock.append(list(test[test['CustomerID'] == i]['StockID'].unique()))\n",
    "    \n",
    "actual_test = pd.DataFrame()\n",
    "actual_test['CustomerID'] = test_id\n",
    "actual_test['Actual_test'] = test_stock\n",
    "actual_test.head()"
   ]
  },
  {
   "cell_type": "markdown",
   "metadata": {},
   "source": [
    "**Recall**"
   ]
  },
  {
   "cell_type": "code",
   "execution_count": 27,
   "metadata": {
    "ExecuteTime": {
     "end_time": "2020-07-22T12:18:34.227771Z",
     "start_time": "2020-07-22T12:18:34.201840Z"
    }
   },
   "outputs": [
    {
     "data": {
      "text/plain": [
       "0.0"
      ]
     },
     "execution_count": 27,
     "metadata": {},
     "output_type": "execute_result"
    }
   ],
   "source": [
    "rec.mark(actual_train['Actual_train'], predic_train, k = 5)"
   ]
  },
  {
   "cell_type": "code",
   "execution_count": 28,
   "metadata": {
    "ExecuteTime": {
     "end_time": "2020-07-22T12:18:34.239740Z",
     "start_time": "2020-07-22T12:18:34.228768Z"
    }
   },
   "outputs": [
    {
     "data": {
      "text/plain": [
       "0.03843518702467566"
      ]
     },
     "execution_count": 28,
     "metadata": {},
     "output_type": "execute_result"
    }
   ],
   "source": [
    "rec.mark(actual_test['Actual_test'], predic_test, k = 5)"
   ]
  },
  {
   "cell_type": "markdown",
   "metadata": {},
   "source": [
    "**Precision**"
   ]
  },
  {
   "cell_type": "markdown",
   "metadata": {},
   "source": [
    "Terjadi kenaikan skor pada data test yang cukup signifikan. Namun, angka tersebut dapat dibilang tergolong rendah dan jika melihat rumusnya, hal tersebut bisa saja dipengaruhi oleh orang yang aktualnya membeli produk jauh lebih banyak dari total rekomendasi yang disediakan oleh model yang dibuat sehingga pembagiannya jadi tidak sama rata. Oleh karena itu, penggunaan Precision bisa membantu acuan akurasi dari model lebih lanjut."
   ]
  },
  {
   "cell_type": "code",
   "execution_count": 29,
   "metadata": {
    "ExecuteTime": {
     "end_time": "2020-07-22T12:18:34.266667Z",
     "start_time": "2020-07-22T12:18:34.241734Z"
    }
   },
   "outputs": [
    {
     "data": {
      "text/plain": [
       "0.0"
      ]
     },
     "execution_count": 29,
     "metadata": {},
     "output_type": "execute_result"
    }
   ],
   "source": [
    "ml_metrics.mapk(actual_train['Actual_train'], predic_train, k = 5)"
   ]
  },
  {
   "cell_type": "code",
   "execution_count": 30,
   "metadata": {
    "ExecuteTime": {
     "end_time": "2020-07-22T12:18:34.279143Z",
     "start_time": "2020-07-22T12:18:34.267664Z"
    }
   },
   "outputs": [
    {
     "data": {
      "text/plain": [
       "0.044163825757575756"
      ]
     },
     "execution_count": 30,
     "metadata": {},
     "output_type": "execute_result"
    }
   ],
   "source": [
    "ml_metrics.mapk(actual_test['Actual_test'], predic_test, k = 5)"
   ]
  },
  {
   "cell_type": "markdown",
   "metadata": {},
   "source": [
    "Nilai recall dan precision saat train = 0, itu terjadi karena memang tidak ada satupun prediksi yang tepat. Namun, terjadi kenaikan 6% dan 8% saat recall dan precision test. Nilai recall bisa lebih kecil dibandingkan precision karena perbandingan recall antara prediksi benar dengan total aktual yang jumlahnya lebih banyak dari total prediksi, sedangkan precision perbandingannya antara prediksi benar dengan total prediksi. Dapat disimpulkan bahwa prediksi rekomendasi benar lebih banyak di 0. Padahal jika dilihat dari EDA yang telah dibuat, consumer yang melakukan pembelian lebih dari 5 produk melebihi orang yang hanya membeli 1-5 produk. Ada kemungkinan orang yang membeli > 5 produk hanya melakukan sekali transaksi di setiap produk yang mengakibatkan nilai korelasi didalam model menjadi kurang maksimal."
   ]
  },
  {
   "cell_type": "code",
   "execution_count": 31,
   "metadata": {
    "ExecuteTime": {
     "end_time": "2020-07-22T12:18:34.401816Z",
     "start_time": "2020-07-22T12:18:34.280142Z"
    }
   },
   "outputs": [
    {
     "data": {
      "text/plain": [
       "0    1025\n",
       "Name: 0, dtype: int64"
      ]
     },
     "execution_count": 31,
     "metadata": {},
     "output_type": "execute_result"
    }
   ],
   "source": [
    "x = 0\n",
    "tepat = []\n",
    "for i in range(len(predic_train)):\n",
    "    for j in range(len(predic_train[i])):\n",
    "        if predic_train[i][j] in actual_train['Actual_train'][i]:\n",
    "            x += 1\n",
    "            \n",
    "    tepat.append(x)\n",
    "    x = 0\n",
    "train_tepat = pd.DataFrame(tepat)\n",
    "\n",
    "train_tepat[0].value_counts()"
   ]
  },
  {
   "cell_type": "code",
   "execution_count": 32,
   "metadata": {
    "ExecuteTime": {
     "end_time": "2020-07-22T12:18:34.469634Z",
     "start_time": "2020-07-22T12:18:34.402812Z"
    }
   },
   "outputs": [
    {
     "data": {
      "text/plain": [
       "0    714\n",
       "1    142\n",
       "2     22\n",
       "3      2\n",
       "Name: 0, dtype: int64"
      ]
     },
     "execution_count": 32,
     "metadata": {},
     "output_type": "execute_result"
    }
   ],
   "source": [
    "x = 0\n",
    "tepat = []\n",
    "for i in range(len(predic_test)):\n",
    "    for j in range(len(predic_test[i])):\n",
    "        if predic_test[i][j] in actual_test['Actual_test'][i]:\n",
    "            x += 1\n",
    "            \n",
    "    tepat.append(x)\n",
    "    x = 0\n",
    "test_tepat = pd.DataFrame(tepat)\n",
    "\n",
    "test_tepat[0].value_counts()"
   ]
  },
  {
   "cell_type": "markdown",
   "metadata": {},
   "source": [
    "### Train Test 90:10"
   ]
  },
  {
   "cell_type": "code",
   "execution_count": 33,
   "metadata": {
    "ExecuteTime": {
     "end_time": "2020-07-22T12:18:34.479608Z",
     "start_time": "2020-07-22T12:18:34.470632Z"
    }
   },
   "outputs": [],
   "source": [
    "train2, test2 = train_test_split(new_stockid, test_size = 0.1, random_state = 1)"
   ]
  },
  {
   "cell_type": "code",
   "execution_count": 34,
   "metadata": {
    "ExecuteTime": {
     "end_time": "2020-07-22T12:18:34.491576Z",
     "start_time": "2020-07-22T12:18:34.480605Z"
    }
   },
   "outputs": [],
   "source": [
    "user_items2 = sparse.csr_matrix((train2['Stock_count'].astype(float), (train2['CustomerID'].astype(int), train2['StockID'].astype(int))))\n",
    "item_users2 = sparse.csr_matrix((train2['Stock_count'].astype(float), (train2['StockID'], train2['CustomerID'].astype(int))))"
   ]
  },
  {
   "cell_type": "code",
   "execution_count": 35,
   "metadata": {
    "ExecuteTime": {
     "end_time": "2020-07-22T12:18:38.212408Z",
     "start_time": "2020-07-22T12:18:34.492573Z"
    }
   },
   "outputs": [
    {
     "data": {
      "application/vnd.jupyter.widget-view+json": {
       "model_id": "80bf2668cffd4b19b671f4f5eec09ada",
       "version_major": 2,
       "version_minor": 0
      },
      "text/plain": [
       "HBox(children=(IntProgress(value=0, max=30), HTML(value='')))"
      ]
     },
     "metadata": {},
     "output_type": "display_data"
    },
    {
     "name": "stdout",
     "output_type": "stream",
     "text": [
      "\n"
     ]
    }
   ],
   "source": [
    "model2 = implicit.als.AlternatingLeastSquares(factors = 500, iterations = 30)\n",
    "model2.fit(item_users2)"
   ]
  },
  {
   "cell_type": "code",
   "execution_count": 36,
   "metadata": {
    "ExecuteTime": {
     "end_time": "2020-07-22T12:18:38.218392Z",
     "start_time": "2020-07-22T12:18:38.213406Z"
    }
   },
   "outputs": [],
   "source": [
    "custID = 14911\n",
    "rekomendasi2 = model2.recommend(custID, user_items2, N = 5, filter_already_liked_items = True)"
   ]
  },
  {
   "cell_type": "code",
   "execution_count": 37,
   "metadata": {
    "ExecuteTime": {
     "end_time": "2020-07-22T12:18:38.245647Z",
     "start_time": "2020-07-22T12:18:38.226473Z"
    }
   },
   "outputs": [
    {
     "data": {
      "text/html": [
       "<div>\n",
       "<style scoped>\n",
       "    .dataframe tbody tr th:only-of-type {\n",
       "        vertical-align: middle;\n",
       "    }\n",
       "\n",
       "    .dataframe tbody tr th {\n",
       "        vertical-align: top;\n",
       "    }\n",
       "\n",
       "    .dataframe thead th {\n",
       "        text-align: right;\n",
       "    }\n",
       "</style>\n",
       "<table border=\"1\" class=\"dataframe\">\n",
       "  <thead>\n",
       "    <tr style=\"text-align: right;\">\n",
       "      <th></th>\n",
       "      <th>CustomerID</th>\n",
       "      <th>Recommendation</th>\n",
       "    </tr>\n",
       "  </thead>\n",
       "  <tbody>\n",
       "    <tr>\n",
       "      <td>0</td>\n",
       "      <td>838</td>\n",
       "      <td>0.0</td>\n",
       "    </tr>\n",
       "    <tr>\n",
       "      <td>1</td>\n",
       "      <td>835</td>\n",
       "      <td>0.0</td>\n",
       "    </tr>\n",
       "    <tr>\n",
       "      <td>2</td>\n",
       "      <td>832</td>\n",
       "      <td>0.0</td>\n",
       "    </tr>\n",
       "    <tr>\n",
       "      <td>3</td>\n",
       "      <td>833</td>\n",
       "      <td>0.0</td>\n",
       "    </tr>\n",
       "    <tr>\n",
       "      <td>4</td>\n",
       "      <td>2501</td>\n",
       "      <td>0.0</td>\n",
       "    </tr>\n",
       "  </tbody>\n",
       "</table>\n",
       "</div>"
      ],
      "text/plain": [
       "   CustomerID  Recommendation\n",
       "0         838             0.0\n",
       "1         835             0.0\n",
       "2         832             0.0\n",
       "3         833             0.0\n",
       "4        2501             0.0"
      ]
     },
     "execution_count": 37,
     "metadata": {},
     "output_type": "execute_result"
    }
   ],
   "source": [
    "df_rec2 = pd.DataFrame(columns = ['CustomerID', 'Recommendation'])\n",
    "df_rec2\n",
    "\n",
    "cust = []\n",
    "rec = []\n",
    "\n",
    "for i in range(len(rekomendasi)):\n",
    "    cust.append(rekomendasi[i][0])\n",
    "    rec.append(rekomendasi[i][1])\n",
    "    \n",
    "df_rec2['CustomerID'], df_rec2['Recommendation'] = cust, rec\n",
    "\n",
    "df_rec2"
   ]
  },
  {
   "cell_type": "code",
   "execution_count": 38,
   "metadata": {
    "ExecuteTime": {
     "end_time": "2020-07-22T12:18:39.449132Z",
     "start_time": "2020-07-22T12:18:38.246644Z"
    }
   },
   "outputs": [
    {
     "data": {
      "text/html": [
       "<div>\n",
       "<style scoped>\n",
       "    .dataframe tbody tr th:only-of-type {\n",
       "        vertical-align: middle;\n",
       "    }\n",
       "\n",
       "    .dataframe tbody tr th {\n",
       "        vertical-align: top;\n",
       "    }\n",
       "\n",
       "    .dataframe thead th {\n",
       "        text-align: right;\n",
       "    }\n",
       "</style>\n",
       "<table border=\"1\" class=\"dataframe\">\n",
       "  <thead>\n",
       "    <tr style=\"text-align: right;\">\n",
       "      <th></th>\n",
       "      <th>CustomerID</th>\n",
       "      <th>Actual_train</th>\n",
       "    </tr>\n",
       "  </thead>\n",
       "  <tbody>\n",
       "    <tr>\n",
       "      <td>0</td>\n",
       "      <td>17059</td>\n",
       "      <td>[2201, 905, 903, 583, 424, 669, 2277, 1457, 22...</td>\n",
       "    </tr>\n",
       "    <tr>\n",
       "      <td>1</td>\n",
       "      <td>12480</td>\n",
       "      <td>[374, 562, 1108, 1625, 135, 1381, 791, 1684, 1...</td>\n",
       "    </tr>\n",
       "    <tr>\n",
       "      <td>2</td>\n",
       "      <td>15867</td>\n",
       "      <td>[1362, 1193, 1473, 903, 1195, 1298, 905, 1447,...</td>\n",
       "    </tr>\n",
       "    <tr>\n",
       "      <td>3</td>\n",
       "      <td>15601</td>\n",
       "      <td>[1942, 285, 1837, 2291, 615, 1490, 438, 1832, ...</td>\n",
       "    </tr>\n",
       "    <tr>\n",
       "      <td>4</td>\n",
       "      <td>12415</td>\n",
       "      <td>[1350, 874, 1651, 1650, 383, 111, 1576, 382, 1...</td>\n",
       "    </tr>\n",
       "  </tbody>\n",
       "</table>\n",
       "</div>"
      ],
      "text/plain": [
       "   CustomerID                                       Actual_train\n",
       "0       17059  [2201, 905, 903, 583, 424, 669, 2277, 1457, 22...\n",
       "1       12480  [374, 562, 1108, 1625, 135, 1381, 791, 1684, 1...\n",
       "2       15867  [1362, 1193, 1473, 903, 1195, 1298, 905, 1447,...\n",
       "3       15601  [1942, 285, 1837, 2291, 615, 1490, 438, 1832, ...\n",
       "4       12415  [1350, 874, 1651, 1650, 383, 111, 1576, 382, 1..."
      ]
     },
     "execution_count": 38,
     "metadata": {},
     "output_type": "execute_result"
    }
   ],
   "source": [
    "# ----- Predicted Train -----\n",
    "\n",
    "id = []\n",
    "rec_list = []\n",
    "for i in list(train2['CustomerID'].astype(int).unique()):\n",
    "    rekomendasi = model2.recommend(i, user_items2, N = 5, filter_already_liked_items = True)\n",
    "    \n",
    "    temp_list = []\n",
    "    for j in rekomendasi:\n",
    "        temp_list.append(j[0])\n",
    "        \n",
    "    id.append(i)\n",
    "    rec_list.append(temp_list)\n",
    "    \n",
    "predicted_train2 = pd.DataFrame()\n",
    "predicted_train2['CustID'] = id\n",
    "predicted_train2['Predicted_train'] = rec_list\n",
    "\n",
    "predicted_train2['Predicted_train'] = predicted_train2['Predicted_train'].apply(lambda x: (\"\"\"{}\"\"\".format(x))) \n",
    "predic_train2 = [ast.literal_eval(a) for a in list(predicted_train2['Predicted_train'])]\n",
    "\n",
    "# ----- Actual Train -----\n",
    "\n",
    "train_id = []\n",
    "train_stock = []\n",
    "\n",
    "for i in train2['CustomerID'].unique():\n",
    "    train_id.append(i.astype(int))\n",
    "    train_stock.append(list(train2[train2['CustomerID'] == i]['StockID'].unique()))\n",
    "    \n",
    "actual_train2 = pd.DataFrame()\n",
    "actual_train2['CustomerID'] = train_id\n",
    "actual_train2['Actual_train'] = train_stock\n",
    "actual_train2.head()"
   ]
  },
  {
   "cell_type": "code",
   "execution_count": 39,
   "metadata": {
    "ExecuteTime": {
     "end_time": "2020-07-22T12:18:40.315464Z",
     "start_time": "2020-07-22T12:18:39.451102Z"
    }
   },
   "outputs": [
    {
     "data": {
      "text/html": [
       "<div>\n",
       "<style scoped>\n",
       "    .dataframe tbody tr th:only-of-type {\n",
       "        vertical-align: middle;\n",
       "    }\n",
       "\n",
       "    .dataframe tbody tr th {\n",
       "        vertical-align: top;\n",
       "    }\n",
       "\n",
       "    .dataframe thead th {\n",
       "        text-align: right;\n",
       "    }\n",
       "</style>\n",
       "<table border=\"1\" class=\"dataframe\">\n",
       "  <thead>\n",
       "    <tr style=\"text-align: right;\">\n",
       "      <th></th>\n",
       "      <th>CustomerID</th>\n",
       "      <th>Actual_test</th>\n",
       "    </tr>\n",
       "  </thead>\n",
       "  <tbody>\n",
       "    <tr>\n",
       "      <td>0</td>\n",
       "      <td>18283</td>\n",
       "      <td>[741, 1446, 1137, 1574, 787, 1136, 2279, 1122,...</td>\n",
       "    </tr>\n",
       "    <tr>\n",
       "      <td>1</td>\n",
       "      <td>14298</td>\n",
       "      <td>[1675, 2363, 589, 301, 1428, 2069, 1128, 1602,...</td>\n",
       "    </tr>\n",
       "    <tr>\n",
       "      <td>2</td>\n",
       "      <td>14527</td>\n",
       "      <td>[1404, 1338, 1109, 1555, 1415, 2180, 787, 1557...</td>\n",
       "    </tr>\n",
       "    <tr>\n",
       "      <td>3</td>\n",
       "      <td>16931</td>\n",
       "      <td>[1074, 1298, 1460, 1324, 644, 1472, 1309, 141,...</td>\n",
       "    </tr>\n",
       "    <tr>\n",
       "      <td>4</td>\n",
       "      <td>17211</td>\n",
       "      <td>[1832, 1556, 1522, 1471, 1627, 1462, 1181, 145...</td>\n",
       "    </tr>\n",
       "  </tbody>\n",
       "</table>\n",
       "</div>"
      ],
      "text/plain": [
       "   CustomerID                                        Actual_test\n",
       "0       18283  [741, 1446, 1137, 1574, 787, 1136, 2279, 1122,...\n",
       "1       14298  [1675, 2363, 589, 301, 1428, 2069, 1128, 1602,...\n",
       "2       14527  [1404, 1338, 1109, 1555, 1415, 2180, 787, 1557...\n",
       "3       16931  [1074, 1298, 1460, 1324, 644, 1472, 1309, 141,...\n",
       "4       17211  [1832, 1556, 1522, 1471, 1627, 1462, 1181, 145..."
      ]
     },
     "execution_count": 39,
     "metadata": {},
     "output_type": "execute_result"
    }
   ],
   "source": [
    "# ----- Train Test -----\n",
    "\n",
    "id = []\n",
    "rec_list = []\n",
    "for i in list(test2['CustomerID'].astype(int).unique()):\n",
    "    rekomendasi = model2.recommend(i, user_items2, N = 5, filter_already_liked_items = True)\n",
    "    \n",
    "    temp_list = []\n",
    "    for j in rekomendasi:\n",
    "        temp_list.append(j[0])\n",
    "        \n",
    "    id.append(i)\n",
    "    rec_list.append(temp_list)\n",
    "    \n",
    "predicted_test2 = pd.DataFrame()\n",
    "predicted_test2['CustID'] = id\n",
    "predicted_test2['Predicted_test'] = rec_list\n",
    "\n",
    "predicted_test2['Predicted_test'] = predicted_test2['Predicted_test'].apply(lambda x: (\"\"\"{}\"\"\".format(x))) \n",
    "predic_test2 = [ast.literal_eval(a) for a in list(predicted_test2['Predicted_test'])]\n",
    "\n",
    "# ----- Actual Test -----\n",
    "\n",
    "test_id = []\n",
    "test_stock = []\n",
    "\n",
    "for i in test2['CustomerID'].unique():\n",
    "    test_id.append(i.astype(int))\n",
    "    test_stock.append(list(test[test['CustomerID'] == i]['StockID'].unique()))\n",
    "    \n",
    "actual_test2 = pd.DataFrame()\n",
    "actual_test2['CustomerID'] = test_id\n",
    "actual_test2['Actual_test'] = test_stock\n",
    "actual_test2.head()"
   ]
  },
  {
   "cell_type": "markdown",
   "metadata": {},
   "source": [
    "**Recall 2**"
   ]
  },
  {
   "cell_type": "code",
   "execution_count": 40,
   "metadata": {
    "ExecuteTime": {
     "end_time": "2020-07-22T12:18:40.319454Z",
     "start_time": "2020-07-22T12:18:40.316462Z"
    }
   },
   "outputs": [],
   "source": [
    "import recmetrics as rec"
   ]
  },
  {
   "cell_type": "code",
   "execution_count": 41,
   "metadata": {
    "ExecuteTime": {
     "end_time": "2020-07-22T12:18:40.349374Z",
     "start_time": "2020-07-22T12:18:40.320451Z"
    }
   },
   "outputs": [
    {
     "data": {
      "text/plain": [
       "0.0"
      ]
     },
     "execution_count": 41,
     "metadata": {},
     "output_type": "execute_result"
    }
   ],
   "source": [
    "rec.mark(actual_train2['Actual_train'], predic_train2, k = 5)"
   ]
  },
  {
   "cell_type": "code",
   "execution_count": 42,
   "metadata": {
    "ExecuteTime": {
     "end_time": "2020-07-22T12:18:40.362339Z",
     "start_time": "2020-07-22T12:18:40.350373Z"
    }
   },
   "outputs": [
    {
     "data": {
      "text/plain": [
       "0.027499334636385025"
      ]
     },
     "execution_count": 42,
     "metadata": {},
     "output_type": "execute_result"
    }
   ],
   "source": [
    "rec.mark(actual_test2['Actual_test'], predic_test2, k = 5)"
   ]
  },
  {
   "cell_type": "markdown",
   "metadata": {},
   "source": [
    "**Precision 2**"
   ]
  },
  {
   "cell_type": "code",
   "execution_count": 43,
   "metadata": {
    "ExecuteTime": {
     "end_time": "2020-07-22T12:18:40.391262Z",
     "start_time": "2020-07-22T12:18:40.363337Z"
    }
   },
   "outputs": [
    {
     "data": {
      "text/plain": [
       "0.0"
      ]
     },
     "execution_count": 43,
     "metadata": {},
     "output_type": "execute_result"
    }
   ],
   "source": [
    "ml_metrics.mapk(actual_train2['Actual_train'], predic_train2, k = 5)"
   ]
  },
  {
   "cell_type": "code",
   "execution_count": 44,
   "metadata": {
    "ExecuteTime": {
     "end_time": "2020-07-22T12:18:40.403230Z",
     "start_time": "2020-07-22T12:18:40.392259Z"
    }
   },
   "outputs": [
    {
     "data": {
      "text/plain": [
       "0.031344343039258295"
      ]
     },
     "execution_count": 44,
     "metadata": {},
     "output_type": "execute_result"
    }
   ],
   "source": [
    "ml_metrics.mapk(actual_test2['Actual_test'], predic_test2, k = 5)"
   ]
  },
  {
   "cell_type": "code",
   "execution_count": 45,
   "metadata": {
    "ExecuteTime": {
     "end_time": "2020-07-22T12:18:40.492989Z",
     "start_time": "2020-07-22T12:18:40.404227Z"
    }
   },
   "outputs": [
    {
     "data": {
      "text/plain": [
       "0    1032\n",
       "Name: 0, dtype: int64"
      ]
     },
     "execution_count": 45,
     "metadata": {},
     "output_type": "execute_result"
    }
   ],
   "source": [
    "x = 0\n",
    "tepat = []\n",
    "for i in range(len(predic_train2)):\n",
    "    for j in range(len(predic_train2[i])):\n",
    "        if predic_train2[i][j] in actual_train2['Actual_train'][i]:\n",
    "            x += 1\n",
    "            \n",
    "    tepat.append(x)\n",
    "    x = 0\n",
    "train_tepat2 = pd.DataFrame(tepat)\n",
    "\n",
    "train_tepat2[0].value_counts()"
   ]
  },
  {
   "cell_type": "code",
   "execution_count": 46,
   "metadata": {
    "ExecuteTime": {
     "end_time": "2020-07-22T12:18:40.550856Z",
     "start_time": "2020-07-22T12:18:40.493986Z"
    }
   },
   "outputs": [
    {
     "data": {
      "text/plain": [
       "0    652\n",
       "1    102\n",
       "2     13\n",
       "Name: 0, dtype: int64"
      ]
     },
     "execution_count": 46,
     "metadata": {},
     "output_type": "execute_result"
    }
   ],
   "source": [
    "x = 0\n",
    "tepat = []\n",
    "for i in range(len(predic_test2)):\n",
    "    for j in range(len(predic_test2[i])):\n",
    "        if predic_test2[i][j] in actual_test2['Actual_test'][i]:\n",
    "            x += 1\n",
    "            \n",
    "    tepat.append(x)\n",
    "    x = 0\n",
    "test_tepat2 = pd.DataFrame(tepat)\n",
    "\n",
    "test_tepat2[0].value_counts()"
   ]
  },
  {
   "cell_type": "markdown",
   "metadata": {},
   "source": [
    "Hasilnya adalah lebih baik saat menggunakan train test 80:20, meskipun perbedaan pada recall dan precision hanya sedikit. Pada model kedua tidak ada yang benar memprediksi lebih dari 2 rekomendasi pada 1 customer. Untuk train recall dan precision tetap mendapat nilai 0."
   ]
  },
  {
   "cell_type": "markdown",
   "metadata": {},
   "source": [
    "Untuk Tuning saya belum mendapatkan cara untuk diterapkan pada ALS karena inputannya berupa sparse matrix bukan berupa list angka."
   ]
  }
 ],
 "metadata": {
  "kernelspec": {
   "display_name": "Python 3",
   "language": "python",
   "name": "python3"
  },
  "language_info": {
   "codemirror_mode": {
    "name": "ipython",
    "version": 3
   },
   "file_extension": ".py",
   "mimetype": "text/x-python",
   "name": "python",
   "nbconvert_exporter": "python",
   "pygments_lexer": "ipython3",
   "version": "3.7.4"
  }
 },
 "nbformat": 4,
 "nbformat_minor": 2
}
